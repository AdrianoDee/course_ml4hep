{
 "cells": [
  {
   "cell_type": "markdown",
   "metadata": {
    "slideshow": {
     "slide_type": "slide"
    }
   },
   "source": [
    "<div style=\"position:relative;\">\n",
    "<img src=images/tensorflow.png style=\"width: 60px; float: left\" />\n",
    "</div>\n",
    "<div style=\"position:relative;\">\n",
    "<img src=images/tensorflow.png style=\"width: 60px; float: right\" />\n",
    "</div>\n",
    "\n",
    "# &nbsp;&nbsp;&nbsp;&nbsp;&nbsp;&nbsp;&nbsp;&nbsp;&nbsp;&nbsp;&nbsp;&nbsp; Tensorflow\n"
   ]
  },
  {
   "cell_type": "markdown",
   "metadata": {
    "slideshow": {
     "slide_type": "skip"
    }
   },
   "source": [
    "Tensorflow is an open-source symbolic math library. Mostly it is used to implement machine learning algorithms in particular neural networks.\n",
    "\n",
    "In this exercise you will learn about:\n",
    "  - the basic buildings blocks of tensorflow, namely: `tf.Tensor`, `tf.Operation`, `tf.Graph`, `tf.Session`\n",
    "  - the modules to implement neural networks, namely: `tf.layers`, `tf.losses`, `tf.summary`\n",
    "  - the builtin visualization tool `tensorboard`\n",
    "  - the high-level estimator API of tensorflow\n",
    "    "
   ]
  },
  {
   "cell_type": "markdown",
   "metadata": {
    "slideshow": {
     "slide_type": "-"
    }
   },
   "source": [
    "<div style=\"position:relative;\">\n",
    "  <img src=\"images/tensorflow_programming_environment.png\" style=\"width: 80%; float: left\" />\n",
    "</div>"
   ]
  },
  {
   "cell_type": "markdown",
   "metadata": {
    "slideshow": {
     "slide_type": "skip"
    }
   },
   "source": [
    "By convention the tensorflow package is usually imported as **tf**"
   ]
  },
  {
   "cell_type": "code",
   "execution_count": 1,
   "metadata": {},
   "outputs": [
    {
     "ename": "ModuleNotFoundError",
     "evalue": "No module named 'tensorflow'",
     "output_type": "error",
     "traceback": [
      "\u001b[0;31m---------------------------------------------------------------------------\u001b[0m",
      "\u001b[0;31mModuleNotFoundError\u001b[0m                       Traceback (most recent call last)",
      "Cell \u001b[0;32mIn[1], line 1\u001b[0m\n\u001b[0;32m----> 1\u001b[0m \u001b[38;5;28;01mimport\u001b[39;00m \u001b[38;5;21;01mtensorflow\u001b[39;00m \u001b[38;5;28;01mas\u001b[39;00m \u001b[38;5;21;01mtf\u001b[39;00m\n",
      "\u001b[0;31mModuleNotFoundError\u001b[0m: No module named 'tensorflow'"
     ]
    }
   ],
   "source": [
    "import tensorflow as tf"
   ]
  },
  {
   "cell_type": "markdown",
   "metadata": {
    "slideshow": {
     "slide_type": "slide"
    }
   },
   "source": [
    "# Low-Level API: Basic Building Blocks"
   ]
  },
  {
   "cell_type": "markdown",
   "metadata": {
    "slideshow": {
     "slide_type": "skip"
    }
   },
   "source": [
    "This low level introduction is based on: https://www.tensorflow.org/programmers_guide/low_level_intro"
   ]
  },
  {
   "cell_type": "markdown",
   "metadata": {
    "slideshow": {
     "slide_type": "subslide"
    }
   },
   "source": [
    "## `tf.Tensor`"
   ]
  },
  {
   "cell_type": "markdown",
   "metadata": {
    "slideshow": {
     "slide_type": "skip"
    }
   },
   "source": [
    "A **symbolic representation** of a n-dimensional array with a **dtype**, a **shape** and a **name**.\n",
    "\n",
    "Tensors do not have **values**, they are just handles to elements in the computation graph.\n",
    "\n",
    "The **values** of a tensor are represented by `np.ndarray`s during the computation."
   ]
  },
  {
   "cell_type": "markdown",
   "metadata": {
    "slideshow": {
     "slide_type": "skip"
    }
   },
   "source": [
    "### Constant Tensors\n",
    "\n",
    "Below you see a constant tensor.\n",
    "\n",
    "During the calculation this tensor behaves like `np.array([1,2,3])`. "
   ]
  },
  {
   "cell_type": "code",
   "execution_count": 2,
   "metadata": {
    "slideshow": {
     "slide_type": "-"
    }
   },
   "outputs": [
    {
     "data": {
      "text/plain": [
       "<tf.Tensor 'Const:0' shape=(3,) dtype=int32>"
      ]
     },
     "execution_count": 2,
     "metadata": {},
     "output_type": "execute_result"
    }
   ],
   "source": [
    "tf.constant([1,2,3])"
   ]
  },
  {
   "cell_type": "markdown",
   "metadata": {
    "slideshow": {
     "slide_type": "skip"
    }
   },
   "source": [
    "### Variable Tensors\n",
    "\n",
    "Below you see a variable tensor, it can be adapted during the calculation. \n",
    "The parameters (weights) of a neural network are represented as **variable** tensors in Tensorflow, because they will be updated during the minimization step of the network."
   ]
  },
  {
   "cell_type": "code",
   "execution_count": 3,
   "metadata": {
    "slideshow": {
     "slide_type": "-"
    }
   },
   "outputs": [
    {
     "data": {
      "text/plain": [
       "<tf.Variable 'Variable:0' shape=(3,) dtype=int32_ref>"
      ]
     },
     "execution_count": 3,
     "metadata": {},
     "output_type": "execute_result"
    }
   ],
   "source": [
    "tf.Variable([1,2,3])"
   ]
  },
  {
   "cell_type": "markdown",
   "metadata": {
    "slideshow": {
     "slide_type": "skip"
    }
   },
   "source": [
    "### Placeholder Tensors\n",
    "\n",
    "Below you see a placeholder tensor, it will be replaced with input data during the computation.\n",
    "The training dataset (features and labels), which is used to train a neural network, are represented by **placeholder** tensors.\n",
    "\n",
    "Here we define a placeholder for a matrix with an arbitrary number of rows (`None`) and three columns.\n",
    "The number of rows is arbitrary because we don't know (or rather don't need to know) the number of training samples we will use in the end."
   ]
  },
  {
   "cell_type": "code",
   "execution_count": 4,
   "metadata": {
    "slideshow": {
     "slide_type": "-"
    }
   },
   "outputs": [
    {
     "data": {
      "text/plain": [
       "<tf.Tensor 'Placeholder:0' shape=(?, 3) dtype=float32>"
      ]
     },
     "execution_count": 4,
     "metadata": {},
     "output_type": "execute_result"
    }
   ],
   "source": [
    "tf.placeholder(dtype=tf.float32, shape=[None, 3])"
   ]
  },
  {
   "cell_type": "markdown",
   "metadata": {
    "slideshow": {
     "slide_type": "subslide"
    }
   },
   "source": [
    "## `tf.Operation`"
   ]
  },
  {
   "cell_type": "markdown",
   "metadata": {
    "slideshow": {
     "slide_type": "skip"
    }
   },
   "source": [
    "A `tf.Operation` takes zero or more `tf.Tensor`s and outputs zero or more `tf.Tensor`s.\n",
    "\n",
    "There are a lot of pre-defined operations:\n",
    "  - `tf.add`, `tf.multiply`, `tf.matmul`, ...\n",
    "  - `tf.reduce_sum`, `tf.reduce_mean`, `tf.reduce_max`, ...\n",
    "  - `tf.tanh`, `tf.nn.relu`, `tf.nn.softmax`, ...\n",
    "  - `tf.reshape`, ...\n",
    "  - `tf.nn.conv2d`, `tf.nn.max_pool`, `tf.nn.dropout`, ..."
   ]
  },
  {
   "cell_type": "code",
   "execution_count": 5,
   "metadata": {
    "slideshow": {
     "slide_type": "skip"
    }
   },
   "outputs": [],
   "source": [
    "import numpy as np"
   ]
  },
  {
   "cell_type": "markdown",
   "metadata": {
    "slideshow": {
     "slide_type": "skip"
    }
   },
   "source": [
    "A very basic example of a `tf.Operation` is a matrix multiplication `tf.matmul`.\n",
    "Here we define a 90° rotation along the z-axis (symbolised by a constant tensor `R`). We rotate an arbitrary number of 3-vectors (symbolised by a placeholder tensor `x`) using this rotation matrix. The result of this operation are an arbitrary number of rotated 3-vectors (symbolised by another tensor `y`)."
   ]
  },
  {
   "cell_type": "code",
   "execution_count": 6,
   "metadata": {},
   "outputs": [
    {
     "data": {
      "text/plain": [
       "<tf.Tensor 'MatMul:0' shape=(?, 3) dtype=float32>"
      ]
     },
     "execution_count": 6,
     "metadata": {},
     "output_type": "execute_result"
    }
   ],
   "source": [
    "x = tf.placeholder(dtype=tf.float32, shape=[None, 3], name='x')\n",
    "R = tf.constant([[ 0.0, 1.0, 0.0],\n",
    "                 [-1.0, 0.0, 0.0],\n",
    "                 [ 0.0, 0.0, 1.0]], name='R')\n",
    "y = tf.matmul(x, R)\n",
    "y"
   ]
  },
  {
   "cell_type": "markdown",
   "metadata": {
    "slideshow": {
     "slide_type": "skip"
    }
   },
   "source": [
    "We can do further calculations with `y`. For example we can calculate the norm of the 3-vector and explicitly check if our rotation left the norm invariant by comparing the result to the norm of our original 3-vectors.\n",
    "The final result will be an arbitrary number of boolean values (symbolised by the tensor `invariant`)"
   ]
  },
  {
   "cell_type": "code",
   "execution_count": 7,
   "metadata": {},
   "outputs": [
    {
     "data": {
      "text/plain": [
       "<tf.Tensor 'Equal:0' shape=(?,) dtype=bool>"
      ]
     },
     "execution_count": 7,
     "metadata": {},
     "output_type": "execute_result"
    }
   ],
   "source": [
    "invariant = tf.equal(tf.norm(y, axis=1), tf.norm(x, axis=1))\n",
    "invariant"
   ]
  },
  {
   "cell_type": "markdown",
   "metadata": {
    "slideshow": {
     "slide_type": "skip"
    }
   },
   "source": [
    "Until know we only defined our calculation in symbolic terms. We did not actually calculate anything yet!\n",
    "Remember tensorflow is a **symbolic** math library."
   ]
  },
  {
   "cell_type": "markdown",
   "metadata": {
    "slideshow": {
     "slide_type": "subslide"
    }
   },
   "source": [
    "## `tf.Graph`\n",
    "\n",
    "The **symbolic calculation** is represented by a `tf.Graph`.\n",
    "  - Allows optimized execution on CPU, GPU, or even distributed\n",
    "  - Graph can be used for automatic differentation"
   ]
  },
  {
   "cell_type": "code",
   "execution_count": 8,
   "metadata": {
    "slideshow": {
     "slide_type": "skip"
    }
   },
   "outputs": [],
   "source": [
    "# This is just some nice visualization code and not part of the tutorial.\n",
    "# You can ignore this cell for the moment\n",
    "\n",
    "class TensorflowGraphToDot:\n",
    "    def __init__(self, op, suppressed_nodes = []):\n",
    "        import collections\n",
    "        from graphviz import Digraph\n",
    "        self.dot = Digraph()\n",
    "        self.dot.graph_attr['size'] ='6,6'\n",
    "        self.nodes = collections.OrderedDict()\n",
    "        import tensorflow.contrib.graph_editor as ge\n",
    "        for node in ge.get_backward_walk_ops(op):\n",
    "            self.nodes[node.node_def.name] = node.node_def.input\n",
    "        self.suppressed_nodes = suppressed_nodes\n",
    "        for node_name in self.nodes:\n",
    "            self.draw_node(node_name)\n",
    "            for input_node in self.nodes[node_name]:\n",
    "                self.draw_edge(input_node, node_name)\n",
    "    \n",
    "    def is_suppressed(self, node_name):\n",
    "        return any([s in node_name for s in self.suppressed_nodes])\n",
    "\n",
    "    def draw_edge(self, from_node_name, to_node_name):\n",
    "        if self.is_suppressed(from_node_name):\n",
    "            if from_node_name in self.nodes:\n",
    "                for next_node_name in self.nodes[from_node_name]:\n",
    "                    self.draw_edge(next_node_name, to_node_name)\n",
    "        else:\n",
    "            if not self.is_suppressed(to_node_name):\n",
    "                self.dot.edge(from_node_name, to_node_name)\n",
    "\n",
    "    def draw_node(self, node_name):\n",
    "        if not self.is_suppressed(node_name):    \n",
    "            self.dot.node(node_name, label=node_name)\n",
    "    \n",
    "    def _repr_svg_(self):\n",
    "        return self.dot._repr_svg_()"
   ]
  },
  {
   "cell_type": "markdown",
   "metadata": {
    "slideshow": {
     "slide_type": "skip"
    }
   },
   "source": [
    "Our calculation is stored as a `tf.Graph`.\n",
    "Here we visualize the entire symbolic calculation we defined above.\n",
    "  - the nodes are `tf.Operation`s\n",
    "  - the edges in between are `tf.Tensor`s"
   ]
  },
  {
   "cell_type": "code",
   "execution_count": 9,
   "metadata": {},
   "outputs": [
    {
     "data": {
      "image/svg+xml": [
       "<?xml version=\"1.0\" encoding=\"UTF-8\" standalone=\"no\"?>\n",
       "<!DOCTYPE svg PUBLIC \"-//W3C//DTD SVG 1.1//EN\"\n",
       " \"http://www.w3.org/Graphics/SVG/1.1/DTD/svg11.dtd\">\n",
       "<!-- Generated by graphviz version 2.38.0 (20140413.2041)\n",
       " -->\n",
       "<!-- Title: %3 Pages: 1 -->\n",
       "<svg width=\"432pt\" height=\"282pt\"\n",
       " viewBox=\"0.00 0.00 432.00 281.69\" xmlns=\"http://www.w3.org/2000/svg\" xmlns:xlink=\"http://www.w3.org/1999/xlink\">\n",
       "<g id=\"graph0\" class=\"graph\" transform=\"scale(0.591793 0.591793) rotate(0) translate(4 472)\">\n",
       "<title>%3</title>\n",
       "<polygon fill=\"white\" stroke=\"none\" points=\"-4,4 -4,-472 725.985,-472 725.985,4 -4,4\"/>\n",
       "<!-- Equal -->\n",
       "<g id=\"node1\" class=\"node\"><title>Equal</title>\n",
       "<ellipse fill=\"none\" stroke=\"black\" cx=\"343.245\" cy=\"-18\" rx=\"31.3957\" ry=\"18\"/>\n",
       "<text text-anchor=\"middle\" x=\"343.245\" y=\"-14.3\" font-family=\"Times,serif\" font-size=\"14.00\">Equal</text>\n",
       "</g>\n",
       "<!-- norm/Squeeze -->\n",
       "<g id=\"node2\" class=\"node\"><title>norm/Squeeze</title>\n",
       "<ellipse fill=\"none\" stroke=\"black\" cx=\"419.245\" cy=\"-90\" rx=\"61.99\" ry=\"18\"/>\n",
       "<text text-anchor=\"middle\" x=\"419.245\" y=\"-86.3\" font-family=\"Times,serif\" font-size=\"14.00\">norm/Squeeze</text>\n",
       "</g>\n",
       "<!-- norm/Squeeze&#45;&gt;Equal -->\n",
       "<g id=\"edge1\" class=\"edge\"><title>norm/Squeeze&#45;&gt;Equal</title>\n",
       "<path fill=\"none\" stroke=\"black\" d=\"M401.234,-72.411C390.82,-62.8191 377.606,-50.6481 366.423,-40.3479\"/>\n",
       "<polygon fill=\"black\" stroke=\"black\" points=\"368.791,-37.7708 359.064,-33.5705 364.049,-42.9197 368.791,-37.7708\"/>\n",
       "</g>\n",
       "<!-- norm_1/Squeeze -->\n",
       "<g id=\"node3\" class=\"node\"><title>norm_1/Squeeze</title>\n",
       "<ellipse fill=\"none\" stroke=\"black\" cx=\"268.245\" cy=\"-90\" rx=\"70.3881\" ry=\"18\"/>\n",
       "<text text-anchor=\"middle\" x=\"268.245\" y=\"-86.3\" font-family=\"Times,serif\" font-size=\"14.00\">norm_1/Squeeze</text>\n",
       "</g>\n",
       "<!-- norm_1/Squeeze&#45;&gt;Equal -->\n",
       "<g id=\"edge2\" class=\"edge\"><title>norm_1/Squeeze&#45;&gt;Equal</title>\n",
       "<path fill=\"none\" stroke=\"black\" d=\"M286.019,-72.411C296.058,-63.0414 308.733,-51.211 319.602,-41.0672\"/>\n",
       "<polygon fill=\"black\" stroke=\"black\" points=\"322.21,-43.4202 327.133,-34.0382 317.434,-38.3028 322.21,-43.4202\"/>\n",
       "</g>\n",
       "<!-- norm/Sqrt -->\n",
       "<g id=\"node4\" class=\"node\"><title>norm/Sqrt</title>\n",
       "<ellipse fill=\"none\" stroke=\"black\" cx=\"423.245\" cy=\"-162\" rx=\"46.5926\" ry=\"18\"/>\n",
       "<text text-anchor=\"middle\" x=\"423.245\" y=\"-158.3\" font-family=\"Times,serif\" font-size=\"14.00\">norm/Sqrt</text>\n",
       "</g>\n",
       "<!-- norm/Sqrt&#45;&gt;norm/Squeeze -->\n",
       "<g id=\"edge3\" class=\"edge\"><title>norm/Sqrt&#45;&gt;norm/Squeeze</title>\n",
       "<path fill=\"none\" stroke=\"black\" d=\"M422.256,-143.697C421.816,-135.983 421.286,-126.712 420.794,-118.112\"/>\n",
       "<polygon fill=\"black\" stroke=\"black\" points=\"424.287,-117.888 420.222,-108.104 417.299,-118.288 424.287,-117.888\"/>\n",
       "</g>\n",
       "<!-- norm_1/Sqrt -->\n",
       "<g id=\"node5\" class=\"node\"><title>norm_1/Sqrt</title>\n",
       "<ellipse fill=\"none\" stroke=\"black\" cx=\"251.245\" cy=\"-234\" rx=\"55.7903\" ry=\"18\"/>\n",
       "<text text-anchor=\"middle\" x=\"251.245\" y=\"-230.3\" font-family=\"Times,serif\" font-size=\"14.00\">norm_1/Sqrt</text>\n",
       "</g>\n",
       "<!-- norm_1/Sqrt&#45;&gt;norm_1/Squeeze -->\n",
       "<g id=\"edge4\" class=\"edge\"><title>norm_1/Sqrt&#45;&gt;norm_1/Squeeze</title>\n",
       "<path fill=\"none\" stroke=\"black\" d=\"M253.296,-215.871C256.193,-191.67 261.516,-147.211 264.966,-118.393\"/>\n",
       "<polygon fill=\"black\" stroke=\"black\" points=\"268.474,-118.534 266.187,-108.189 261.523,-117.702 268.474,-118.534\"/>\n",
       "</g>\n",
       "<!-- norm_1/Sum -->\n",
       "<g id=\"node6\" class=\"node\"><title>norm_1/Sum</title>\n",
       "<ellipse fill=\"none\" stroke=\"black\" cx=\"250.245\" cy=\"-306\" rx=\"57.6901\" ry=\"18\"/>\n",
       "<text text-anchor=\"middle\" x=\"250.245\" y=\"-302.3\" font-family=\"Times,serif\" font-size=\"14.00\">norm_1/Sum</text>\n",
       "</g>\n",
       "<!-- norm_1/Sum&#45;&gt;norm_1/Sqrt -->\n",
       "<g id=\"edge5\" class=\"edge\"><title>norm_1/Sum&#45;&gt;norm_1/Sqrt</title>\n",
       "<path fill=\"none\" stroke=\"black\" d=\"M250.492,-287.697C250.602,-279.983 250.735,-270.712 250.858,-262.112\"/>\n",
       "<polygon fill=\"black\" stroke=\"black\" points=\"254.357,-262.153 251.001,-252.104 247.358,-262.053 254.357,-262.153\"/>\n",
       "</g>\n",
       "<!-- norm/Sum -->\n",
       "<g id=\"node7\" class=\"node\"><title>norm/Sum</title>\n",
       "<ellipse fill=\"none\" stroke=\"black\" cx=\"430.245\" cy=\"-234\" rx=\"48.9926\" ry=\"18\"/>\n",
       "<text text-anchor=\"middle\" x=\"430.245\" y=\"-230.3\" font-family=\"Times,serif\" font-size=\"14.00\">norm/Sum</text>\n",
       "</g>\n",
       "<!-- norm/Sum&#45;&gt;norm/Sqrt -->\n",
       "<g id=\"edge6\" class=\"edge\"><title>norm/Sum&#45;&gt;norm/Sqrt</title>\n",
       "<path fill=\"none\" stroke=\"black\" d=\"M428.515,-215.697C427.743,-207.983 426.816,-198.712 425.956,-190.112\"/>\n",
       "<polygon fill=\"black\" stroke=\"black\" points=\"429.433,-189.706 424.956,-180.104 422.468,-190.403 429.433,-189.706\"/>\n",
       "</g>\n",
       "<!-- norm_1/mul -->\n",
       "<g id=\"node8\" class=\"node\"><title>norm_1/mul</title>\n",
       "<ellipse fill=\"none\" stroke=\"black\" cx=\"55.2451\" cy=\"-378\" rx=\"55.4913\" ry=\"18\"/>\n",
       "<text text-anchor=\"middle\" x=\"55.2451\" y=\"-374.3\" font-family=\"Times,serif\" font-size=\"14.00\">norm_1/mul</text>\n",
       "</g>\n",
       "<!-- norm_1/mul&#45;&gt;norm_1/Sum -->\n",
       "<g id=\"edge7\" class=\"edge\"><title>norm_1/mul&#45;&gt;norm_1/Sum</title>\n",
       "<path fill=\"none\" stroke=\"black\" d=\"M91.0111,-364.161C122.87,-352.724 169.669,-335.925 204.293,-323.496\"/>\n",
       "<polygon fill=\"black\" stroke=\"black\" points=\"205.484,-326.787 213.714,-320.114 203.119,-320.198 205.484,-326.787\"/>\n",
       "</g>\n",
       "<!-- norm_1/Sum/reduction_indices -->\n",
       "<g id=\"node9\" class=\"node\"><title>norm_1/Sum/reduction_indices</title>\n",
       "<ellipse fill=\"none\" stroke=\"black\" cx=\"250.245\" cy=\"-378\" rx=\"122.379\" ry=\"18\"/>\n",
       "<text text-anchor=\"middle\" x=\"250.245\" y=\"-374.3\" font-family=\"Times,serif\" font-size=\"14.00\">norm_1/Sum/reduction_indices</text>\n",
       "</g>\n",
       "<!-- norm_1/Sum/reduction_indices&#45;&gt;norm_1/Sum -->\n",
       "<g id=\"edge8\" class=\"edge\"><title>norm_1/Sum/reduction_indices&#45;&gt;norm_1/Sum</title>\n",
       "<path fill=\"none\" stroke=\"black\" d=\"M250.245,-359.697C250.245,-351.983 250.245,-342.712 250.245,-334.112\"/>\n",
       "<polygon fill=\"black\" stroke=\"black\" points=\"253.745,-334.104 250.245,-324.104 246.745,-334.104 253.745,-334.104\"/>\n",
       "</g>\n",
       "<!-- norm/mul -->\n",
       "<g id=\"node10\" class=\"node\"><title>norm/mul</title>\n",
       "<ellipse fill=\"none\" stroke=\"black\" cx=\"430.245\" cy=\"-306\" rx=\"46.2923\" ry=\"18\"/>\n",
       "<text text-anchor=\"middle\" x=\"430.245\" y=\"-302.3\" font-family=\"Times,serif\" font-size=\"14.00\">norm/mul</text>\n",
       "</g>\n",
       "<!-- norm/mul&#45;&gt;norm/Sum -->\n",
       "<g id=\"edge9\" class=\"edge\"><title>norm/mul&#45;&gt;norm/Sum</title>\n",
       "<path fill=\"none\" stroke=\"black\" d=\"M430.245,-287.697C430.245,-279.983 430.245,-270.712 430.245,-262.112\"/>\n",
       "<polygon fill=\"black\" stroke=\"black\" points=\"433.745,-262.104 430.245,-252.104 426.745,-262.104 433.745,-262.104\"/>\n",
       "</g>\n",
       "<!-- norm/Sum/reduction_indices -->\n",
       "<g id=\"node11\" class=\"node\"><title>norm/Sum/reduction_indices</title>\n",
       "<ellipse fill=\"none\" stroke=\"black\" cx=\"608.245\" cy=\"-306\" rx=\"113.98\" ry=\"18\"/>\n",
       "<text text-anchor=\"middle\" x=\"608.245\" y=\"-302.3\" font-family=\"Times,serif\" font-size=\"14.00\">norm/Sum/reduction_indices</text>\n",
       "</g>\n",
       "<!-- norm/Sum/reduction_indices&#45;&gt;norm/Sum -->\n",
       "<g id=\"edge10\" class=\"edge\"><title>norm/Sum/reduction_indices&#45;&gt;norm/Sum</title>\n",
       "<path fill=\"none\" stroke=\"black\" d=\"M567.854,-289.116C539.194,-277.845 500.832,-262.759 471.893,-251.379\"/>\n",
       "<polygon fill=\"black\" stroke=\"black\" points=\"473.055,-248.075 462.468,-247.672 470.494,-254.589 473.055,-248.075\"/>\n",
       "</g>\n",
       "<!-- x -->\n",
       "<g id=\"node12\" class=\"node\"><title>x</title>\n",
       "<ellipse fill=\"none\" stroke=\"black\" cx=\"55.2451\" cy=\"-450\" rx=\"27\" ry=\"18\"/>\n",
       "<text text-anchor=\"middle\" x=\"55.2451\" y=\"-446.3\" font-family=\"Times,serif\" font-size=\"14.00\">x</text>\n",
       "</g>\n",
       "<!-- x&#45;&gt;norm_1/mul -->\n",
       "<g id=\"edge11\" class=\"edge\"><title>x&#45;&gt;norm_1/mul</title>\n",
       "<path fill=\"none\" stroke=\"black\" d=\"M49.4052,-432.411C48.5426,-424.507 48.2932,-414.852 48.657,-405.935\"/>\n",
       "<polygon fill=\"black\" stroke=\"black\" points=\"52.1484,-406.179 49.3657,-395.956 45.166,-405.683 52.1484,-406.179\"/>\n",
       "</g>\n",
       "<!-- x&#45;&gt;norm_1/mul -->\n",
       "<g id=\"edge12\" class=\"edge\"><title>x&#45;&gt;norm_1/mul</title>\n",
       "<path fill=\"none\" stroke=\"black\" d=\"M61.085,-432.411C61.9476,-424.507 62.197,-414.852 61.8332,-405.935\"/>\n",
       "<polygon fill=\"black\" stroke=\"black\" points=\"65.3242,-405.683 61.1245,-395.956 58.3418,-406.179 65.3242,-405.683\"/>\n",
       "</g>\n",
       "<!-- MatMul -->\n",
       "<g id=\"node13\" class=\"node\"><title>MatMul</title>\n",
       "<ellipse fill=\"none\" stroke=\"black\" cx=\"430.245\" cy=\"-378\" rx=\"40.0939\" ry=\"18\"/>\n",
       "<text text-anchor=\"middle\" x=\"430.245\" y=\"-374.3\" font-family=\"Times,serif\" font-size=\"14.00\">MatMul</text>\n",
       "</g>\n",
       "<!-- x&#45;&gt;MatMul -->\n",
       "<g id=\"edge15\" class=\"edge\"><title>x&#45;&gt;MatMul</title>\n",
       "<path fill=\"none\" stroke=\"black\" d=\"M81.7597,-446.263C137.715,-440.144 271.728,-423.679 381.245,-396 384.388,-395.206 387.616,-394.299 390.843,-393.326\"/>\n",
       "<polygon fill=\"black\" stroke=\"black\" points=\"391.975,-396.639 400.434,-390.26 389.843,-389.971 391.975,-396.639\"/>\n",
       "</g>\n",
       "<!-- MatMul&#45;&gt;norm/mul -->\n",
       "<g id=\"edge13\" class=\"edge\"><title>MatMul&#45;&gt;norm/mul</title>\n",
       "<path fill=\"none\" stroke=\"black\" d=\"M424.367,-360.055C423.549,-352.346 423.306,-343.027 423.64,-334.364\"/>\n",
       "<polygon fill=\"black\" stroke=\"black\" points=\"427.139,-334.491 424.332,-324.275 420.156,-334.012 427.139,-334.491\"/>\n",
       "</g>\n",
       "<!-- MatMul&#45;&gt;norm/mul -->\n",
       "<g id=\"edge14\" class=\"edge\"><title>MatMul&#45;&gt;norm/mul</title>\n",
       "<path fill=\"none\" stroke=\"black\" d=\"M436.123,-360.055C436.941,-352.346 437.184,-343.027 436.85,-334.364\"/>\n",
       "<polygon fill=\"black\" stroke=\"black\" points=\"440.334,-334.012 436.158,-324.275 433.351,-334.491 440.334,-334.012\"/>\n",
       "</g>\n",
       "<!-- R -->\n",
       "<g id=\"node14\" class=\"node\"><title>R</title>\n",
       "<ellipse fill=\"none\" stroke=\"black\" cx=\"430.245\" cy=\"-450\" rx=\"27\" ry=\"18\"/>\n",
       "<text text-anchor=\"middle\" x=\"430.245\" y=\"-446.3\" font-family=\"Times,serif\" font-size=\"14.00\">R</text>\n",
       "</g>\n",
       "<!-- R&#45;&gt;MatMul -->\n",
       "<g id=\"edge16\" class=\"edge\"><title>R&#45;&gt;MatMul</title>\n",
       "<path fill=\"none\" stroke=\"black\" d=\"M430.245,-431.697C430.245,-423.983 430.245,-414.712 430.245,-406.112\"/>\n",
       "<polygon fill=\"black\" stroke=\"black\" points=\"433.745,-406.104 430.245,-396.104 426.745,-406.104 433.745,-406.104\"/>\n",
       "</g>\n",
       "</g>\n",
       "</svg>\n"
      ],
      "text/plain": [
       "<__main__.TensorflowGraphToDot at 0x7f6fea6359e8>"
      ]
     },
     "execution_count": 9,
     "metadata": {},
     "output_type": "execute_result"
    }
   ],
   "source": [
    "TensorflowGraphToDot(invariant)"
   ]
  },
  {
   "cell_type": "markdown",
   "metadata": {
    "slideshow": {
     "slide_type": "subslide"
    }
   },
   "source": [
    "### Automatic Differentiation"
   ]
  },
  {
   "cell_type": "markdown",
   "metadata": {
    "slideshow": {
     "slide_type": "skip"
    }
   },
   "source": [
    "Tensorflow can automatically differentiate a graph with respect to one of its constituents.\n",
    "The result will be another graph, which calculates the gradients.\n",
    "\n",
    "For the training of arbitrary neural networks this is a huge advantage, because we only have to implement the forward pass of the neural network, and the necessary calculations for the backpropagation can be automatically generated by tensorflow!\n",
    "\n",
    "In this sense: **the back-propagation algorithm is part of the design of tensorflow**"
   ]
  },
  {
   "cell_type": "code",
   "execution_count": 10,
   "metadata": {
    "slideshow": {
     "slide_type": "-"
    }
   },
   "outputs": [
    {
     "data": {
      "image/svg+xml": [
       "<?xml version=\"1.0\" encoding=\"UTF-8\" standalone=\"no\"?>\n",
       "<!DOCTYPE svg PUBLIC \"-//W3C//DTD SVG 1.1//EN\"\n",
       " \"http://www.w3.org/Graphics/SVG/1.1/DTD/svg11.dtd\">\n",
       "<!-- Generated by graphviz version 2.38.0 (20140413.2041)\n",
       " -->\n",
       "<!-- Title: %3 Pages: 1 -->\n",
       "<svg width=\"432pt\" height=\"332pt\"\n",
       " viewBox=\"0.00 0.00 432.00 331.78\" xmlns=\"http://www.w3.org/2000/svg\" xmlns:xlink=\"http://www.w3.org/1999/xlink\">\n",
       "<g id=\"graph0\" class=\"graph\" transform=\"scale(0.999349 0.999349) rotate(0) translate(4 328)\">\n",
       "<title>%3</title>\n",
       "<polygon fill=\"white\" stroke=\"none\" points=\"-4,4 -4,-328 428.281,-328 428.281,4 -4,4\"/>\n",
       "<!-- gradients/MatMul_grad/MatMul -->\n",
       "<g id=\"node1\" class=\"node\"><title>gradients/MatMul_grad/MatMul</title>\n",
       "<ellipse fill=\"none\" stroke=\"black\" cx=\"127.389\" cy=\"-18\" rx=\"127.277\" ry=\"18\"/>\n",
       "<text text-anchor=\"middle\" x=\"127.389\" y=\"-14.3\" font-family=\"Times,serif\" font-size=\"14.00\">gradients/MatMul_grad/MatMul</text>\n",
       "</g>\n",
       "<!-- gradients/Fill -->\n",
       "<g id=\"node2\" class=\"node\"><title>gradients/Fill</title>\n",
       "<ellipse fill=\"none\" stroke=\"black\" cx=\"175.389\" cy=\"-90\" rx=\"57.6901\" ry=\"18\"/>\n",
       "<text text-anchor=\"middle\" x=\"175.389\" y=\"-86.3\" font-family=\"Times,serif\" font-size=\"14.00\">gradients/Fill</text>\n",
       "</g>\n",
       "<!-- gradients/Fill&#45;&gt;gradients/MatMul_grad/MatMul -->\n",
       "<g id=\"edge1\" class=\"edge\"><title>gradients/Fill&#45;&gt;gradients/MatMul_grad/MatMul</title>\n",
       "<path fill=\"none\" stroke=\"black\" d=\"M163.769,-72.055C158.134,-63.8373 151.245,-53.7911 144.984,-44.6599\"/>\n",
       "<polygon fill=\"black\" stroke=\"black\" points=\"147.776,-42.5432 139.235,-36.2753 142.003,-46.502 147.776,-42.5432\"/>\n",
       "</g>\n",
       "<!-- R -->\n",
       "<g id=\"node3\" class=\"node\"><title>R</title>\n",
       "<ellipse fill=\"none\" stroke=\"black\" cx=\"91.3887\" cy=\"-306\" rx=\"27\" ry=\"18\"/>\n",
       "<text text-anchor=\"middle\" x=\"91.3887\" y=\"-302.3\" font-family=\"Times,serif\" font-size=\"14.00\">R</text>\n",
       "</g>\n",
       "<!-- R&#45;&gt;gradients/MatMul_grad/MatMul -->\n",
       "<g id=\"edge2\" class=\"edge\"><title>R&#45;&gt;gradients/MatMul_grad/MatMul</title>\n",
       "<path fill=\"none\" stroke=\"black\" d=\"M90.7699,-287.756C89.774,-248.731 89.5572,-150.902 108.389,-72 110.454,-63.348 113.451,-54.15 116.458,-45.8875\"/>\n",
       "<polygon fill=\"black\" stroke=\"black\" points=\"119.793,-46.9639 120.067,-36.3726 113.248,-44.4811 119.793,-46.9639\"/>\n",
       "</g>\n",
       "<!-- MatMul -->\n",
       "<g id=\"node6\" class=\"node\"><title>MatMul</title>\n",
       "<ellipse fill=\"none\" stroke=\"black\" cx=\"169.389\" cy=\"-234\" rx=\"40.0939\" ry=\"18\"/>\n",
       "<text text-anchor=\"middle\" x=\"169.389\" y=\"-230.3\" font-family=\"Times,serif\" font-size=\"14.00\">MatMul</text>\n",
       "</g>\n",
       "<!-- R&#45;&gt;MatMul -->\n",
       "<g id=\"edge7\" class=\"edge\"><title>R&#45;&gt;MatMul</title>\n",
       "<path fill=\"none\" stroke=\"black\" d=\"M106.799,-291.17C117.506,-281.561 132.014,-268.541 144.366,-257.457\"/>\n",
       "<polygon fill=\"black\" stroke=\"black\" points=\"147.005,-259.791 152.11,-250.507 142.33,-254.581 147.005,-259.791\"/>\n",
       "</g>\n",
       "<!-- gradients/Shape -->\n",
       "<g id=\"node4\" class=\"node\"><title>gradients/Shape</title>\n",
       "<ellipse fill=\"none\" stroke=\"black\" cx=\"175.389\" cy=\"-162\" rx=\"66.8882\" ry=\"18\"/>\n",
       "<text text-anchor=\"middle\" x=\"175.389\" y=\"-158.3\" font-family=\"Times,serif\" font-size=\"14.00\">gradients/Shape</text>\n",
       "</g>\n",
       "<!-- gradients/Shape&#45;&gt;gradients/Fill -->\n",
       "<g id=\"edge3\" class=\"edge\"><title>gradients/Shape&#45;&gt;gradients/Fill</title>\n",
       "<path fill=\"none\" stroke=\"black\" d=\"M175.389,-143.697C175.389,-135.983 175.389,-126.712 175.389,-118.112\"/>\n",
       "<polygon fill=\"black\" stroke=\"black\" points=\"178.889,-118.104 175.389,-108.104 171.889,-118.104 178.889,-118.104\"/>\n",
       "</g>\n",
       "<!-- gradients/grad_ys_0 -->\n",
       "<g id=\"node5\" class=\"node\"><title>gradients/grad_ys_0</title>\n",
       "<ellipse fill=\"none\" stroke=\"black\" cx=\"342.389\" cy=\"-162\" rx=\"81.7856\" ry=\"18\"/>\n",
       "<text text-anchor=\"middle\" x=\"342.389\" y=\"-158.3\" font-family=\"Times,serif\" font-size=\"14.00\">gradients/grad_ys_0</text>\n",
       "</g>\n",
       "<!-- gradients/grad_ys_0&#45;&gt;gradients/Fill -->\n",
       "<g id=\"edge4\" class=\"edge\"><title>gradients/grad_ys_0&#45;&gt;gradients/Fill</title>\n",
       "<path fill=\"none\" stroke=\"black\" d=\"M306.152,-145.811C280.151,-134.912 245.033,-120.192 217.738,-108.751\"/>\n",
       "<polygon fill=\"black\" stroke=\"black\" points=\"219.013,-105.491 208.437,-104.853 216.307,-111.946 219.013,-105.491\"/>\n",
       "</g>\n",
       "<!-- MatMul&#45;&gt;gradients/Shape -->\n",
       "<g id=\"edge5\" class=\"edge\"><title>MatMul&#45;&gt;gradients/Shape</title>\n",
       "<path fill=\"none\" stroke=\"black\" d=\"M170.872,-215.697C171.533,-207.983 172.328,-198.712 173.065,-190.112\"/>\n",
       "<polygon fill=\"black\" stroke=\"black\" points=\"176.556,-190.367 173.923,-180.104 169.581,-189.769 176.556,-190.367\"/>\n",
       "</g>\n",
       "<!-- x -->\n",
       "<g id=\"node7\" class=\"node\"><title>x</title>\n",
       "<ellipse fill=\"none\" stroke=\"black\" cx=\"169.389\" cy=\"-306\" rx=\"27\" ry=\"18\"/>\n",
       "<text text-anchor=\"middle\" x=\"169.389\" y=\"-302.3\" font-family=\"Times,serif\" font-size=\"14.00\">x</text>\n",
       "</g>\n",
       "<!-- x&#45;&gt;MatMul -->\n",
       "<g id=\"edge6\" class=\"edge\"><title>x&#45;&gt;MatMul</title>\n",
       "<path fill=\"none\" stroke=\"black\" d=\"M169.389,-287.697C169.389,-279.983 169.389,-270.712 169.389,-262.112\"/>\n",
       "<polygon fill=\"black\" stroke=\"black\" points=\"172.889,-262.104 169.389,-252.104 165.889,-262.104 172.889,-262.104\"/>\n",
       "</g>\n",
       "</g>\n",
       "</svg>\n"
      ],
      "text/plain": [
       "<__main__.TensorflowGraphToDot at 0x7f6fe74f5f98>"
      ]
     },
     "execution_count": 10,
     "metadata": {},
     "output_type": "execute_result"
    }
   ],
   "source": [
    "partial_derivative = tf.gradients(y, x)\n",
    "TensorflowGraphToDot(partial_derivative)"
   ]
  },
  {
   "cell_type": "markdown",
   "metadata": {
    "slideshow": {
     "slide_type": "subslide"
    }
   },
   "source": [
    "## `tf.Session`\n",
    "\n",
    "Executes the `tf.Operation`s of a `tf.Graph` on different devices (CPUs, GPUs, Distributed, ...).\n",
    "\n",
    "**If a tf.Graph is like a .py file, a tf.Session is like the python executable.**"
   ]
  },
  {
   "cell_type": "markdown",
   "metadata": {
    "slideshow": {
     "slide_type": "skip"
    }
   },
   "source": [
    "So far we still have not calculate anything! Let's do this now!\n",
    "You can execute your symbolic calculation on different devices, tensorflow will automatically generate the necessary code for you. So if you want to run your calculation on a GPU there is no need to learn e.g. CUDA (the API used to develop code for Nvidia GPUs), tensorflow will handle everything for you in the background!\n",
    "\n",
    "The `tf.Session` is responsible for setting up the necessary environment.\n",
    "\n",
    "In this tutorial we stick to executing our calculations on CPU."
   ]
  },
  {
   "cell_type": "code",
   "execution_count": 11,
   "metadata": {},
   "outputs": [
    {
     "data": {
      "text/plain": [
       "[_DeviceAttributes(/job:localhost/replica:0/task:0/device:CPU:0, CPU, 268435456)]"
      ]
     },
     "execution_count": 11,
     "metadata": {},
     "output_type": "execute_result"
    }
   ],
   "source": [
    "session = tf.InteractiveSession()\n",
    "session.list_devices()"
   ]
  },
  {
   "cell_type": "markdown",
   "metadata": {
    "slideshow": {
     "slide_type": "skip"
    }
   },
   "source": [
    "Once we defined our session, we can run our calculations.\n",
    "Just pass the `tf.Tensor` object you want to calculate to the `run` method of the session.\n",
    "\n",
    "Here we want to calculate $y = R \\cdot x$, which we defined earlier.\n",
    "However, while `R` was a constant tensor with actual numbers, x was just a placeholder for some arbitrary vectors. So if we want to calculate `y` we have to provide some 3-vectors which will be used during the calculation inplace of `x`.\n",
    "We provide two 3-vectors, and tensorflow calculates the resulting two rotated 3-vectors.\n",
    "\n",
    "In the feed_dict you have to provide the necessary data for each placeholder involved in the calculation."
   ]
  },
  {
   "cell_type": "code",
   "execution_count": 12,
   "metadata": {},
   "outputs": [
    {
     "data": {
      "text/plain": [
       "array([[-2.,  1.,  3.],\n",
       "       [-5.,  4.,  6.]], dtype=float32)"
      ]
     },
     "execution_count": 12,
     "metadata": {},
     "output_type": "execute_result"
    }
   ],
   "source": [
    "session.run(y, feed_dict={x: [[1,2,3], [4,5,6]]})"
   ]
  },
  {
   "cell_type": "markdown",
   "metadata": {
    "slideshow": {
     "slide_type": "skip"
    }
   },
   "source": [
    "Next we execute our calculation, which tests the invariance of the norm of 3-vectors under rotation.\n",
    "This time we provide 50 random 3-vectors inplace of x.\n",
    "The result are 50 boolean values (and hopefully all are True)"
   ]
  },
  {
   "cell_type": "code",
   "execution_count": 13,
   "metadata": {},
   "outputs": [
    {
     "data": {
      "text/plain": [
       "array([ True,  True,  True,  True,  True,  True,  True,  True,  True,\n",
       "        True,  True,  True,  True,  True,  True,  True,  True,  True,\n",
       "        True,  True,  True,  True,  True,  True,  True,  True,  True,\n",
       "        True,  True,  True,  True,  True,  True,  True,  True,  True,\n",
       "        True,  True,  True,  True,  True,  True,  True,  True,  True,\n",
       "        True,  True,  True,  True,  True])"
      ]
     },
     "execution_count": 13,
     "metadata": {},
     "output_type": "execute_result"
    }
   ],
   "source": [
    "session.run(invariant, feed_dict={x: np.random.uniform(size=(50, 3))})"
   ]
  },
  {
   "cell_type": "markdown",
   "metadata": {
    "slideshow": {
     "slide_type": "skip"
    }
   },
   "source": [
    "It is time for an exercise!\n",
    "You will have some time to do the following exercise (~10 Minutes).\n",
    "Again, if you get stuck, raise your hand and a tutor will get back to you as soon as possible."
   ]
  },
  {
   "cell_type": "markdown",
   "metadata": {
    "slideshow": {
     "slide_type": "subslide"
    }
   },
   "source": [
    "<div class=\"alert alert-block alert-info\">\n",
    "<h3>Exercise</h3>\n",
    "Modify the above code to calculate a simple percepetron:\n",
    "\n",
    "$$ y = \\tanh(W \\cdot x + b) $$\n",
    "\n",
    "Execute the calculation with numpy and with tensorflow.\n",
    "\n",
    "<h3>Question</h3>\n",
    "Take a look at the partial derivative $\\frac{\\partial y}{\\partial x}$.\n",
    "Why does tensorflow still calculates the $\\tanh$ term and not the derivative?\n",
    "</div>"
   ]
  },
  {
   "cell_type": "markdown",
   "metadata": {
    "slideshow": {
     "slide_type": "slide"
    }
   },
   "source": [
    "# MNIST\n",
    "\n",
    "The MNIST database (Modified National Institute of Standards and Technology database) is a **dataset**\n",
    "  - 28x28 images showing handwritten digits\n",
    "  - 55K training, 5K validation and 10K test samples\n",
    "  - multi-class classification task"
   ]
  },
  {
   "cell_type": "markdown",
   "metadata": {
    "slideshow": {
     "slide_type": "skip"
    }
   },
   "source": [
    "The MNIST dataset is the **hello world** task of (image-based) machine learning.\n",
    "Throughout this tutorial we will stick to the MNIST dataset to keep things as simple as possible.\n",
    "But of course you can later apply your new knowledge to something completely different (e.g. astro-particle physics)\n",
    "\n",
    "Each image is represented by a 784-dimensional vector, and its label is represented by a 10-dimensional one-hot encoded vector. So, for instance the digit 3 would have the label (0,0,1,0,0,0,0,0,0,0)"
   ]
  },
  {
   "cell_type": "code",
   "execution_count": 14,
   "metadata": {},
   "outputs": [
    {
     "name": "stdout",
     "output_type": "stream",
     "text": [
      "Extracting MNIST_data/train-images-idx3-ubyte.gz\n",
      "Extracting MNIST_data/train-labels-idx1-ubyte.gz\n",
      "Extracting MNIST_data/t10k-images-idx3-ubyte.gz\n",
      "Extracting MNIST_data/t10k-labels-idx1-ubyte.gz\n"
     ]
    }
   ],
   "source": [
    "from tensorflow.examples.tutorials.mnist import input_data\n",
    "mnist = input_data.read_data_sets(\"MNIST_data/\", one_hot=True)"
   ]
  },
  {
   "cell_type": "markdown",
   "metadata": {
    "slideshow": {
     "slide_type": "skip"
    }
   },
   "source": [
    "It is always a good idea to first visualize some training samples, to get to know the data."
   ]
  },
  {
   "cell_type": "code",
   "execution_count": 15,
   "metadata": {
    "slideshow": {
     "slide_type": "subslide"
    }
   },
   "outputs": [
    {
     "data": {
      "image/png": "[encoded data removed]",
      "text/plain": [
       "<matplotlib.figure.Figure at 0x7f6fe7201c18>"
      ]
     },
     "metadata": {},
     "output_type": "display_data"
    }
   ],
   "source": [
    "%matplotlib inline\n",
    "import matplotlib.pyplot as plt\n",
    "fig, axes = plt.subplots(2, 4)\n",
    "for i, ax in enumerate(axes.flat):\n",
    "    ax.set_title(mnist.train.labels[i].argmax())\n",
    "    ax.imshow(mnist.train.images[i].reshape(28,28), cmap=plt.cm.Greys)\n",
    "    ax.axis('off')"
   ]
  },
  {
   "cell_type": "markdown",
   "metadata": {
    "slideshow": {
     "slide_type": "subslide"
    }
   },
   "source": [
    "## Linear Model\n",
    "\n",
    "In machine learning it is best practise to start with the simplest model to establish the overall procedure.\n",
    "\n",
    "We implement a linear model $f$ with weights $W$:\n",
    "$$ f: R^{784} \\rightarrow [0, 1]^{10}$$\n",
    "\n",
    "$$ f(\\vec{x}) = \\underbrace{\\frac{\\exp \\vec{l}}{\\sum_{i=1}^{10} \\exp l_i}}_{\\mathrm{softmax}(l)} \\quad \\quad \\textrm{where} \\quad \\vec{l} = W \\cdot \\vec{x}$$\n"
   ]
  },
  {
   "cell_type": "markdown",
   "metadata": {
    "slideshow": {
     "slide_type": "skip"
    }
   },
   "source": [
    "The linear model maps the 784 dimensional input vector onto 10 outputs.\n",
    "A linear model is a neural network where the input layer (784 neurons) is directly connected to the output layer (10 neurons).\n",
    "\n",
    "Each output should be the probability that a certain digit is shown. For instance, the first output is the probability that the image shows a 1, the second output is the probability that the image shows a 2, and so on...\n",
    "Overall the probabilities should sum up to 1!\n",
    "A simple way to achieve this, is by applying the softmax activation function to the output neurons (see definition above)."
   ]
  },
  {
   "cell_type": "code",
   "execution_count": 16,
   "metadata": {
    "slideshow": {
     "slide_type": "subslide"
    }
   },
   "outputs": [
    {
     "data": {
      "image/svg+xml": [
       "<?xml version=\"1.0\" encoding=\"UTF-8\" standalone=\"no\"?>\n",
       "<!DOCTYPE svg PUBLIC \"-//W3C//DTD SVG 1.1//EN\"\n",
       " \"http://www.w3.org/Graphics/SVG/1.1/DTD/svg11.dtd\">\n",
       "<!-- Generated by graphviz version 2.38.0 (20140413.2041)\n",
       " -->\n",
       "<!-- Title: %3 Pages: 1 -->\n",
       "<svg width=\"284pt\" height=\"260pt\"\n",
       " viewBox=\"0.00 0.00 283.69 260.00\" xmlns=\"http://www.w3.org/2000/svg\" xmlns:xlink=\"http://www.w3.org/1999/xlink\">\n",
       "<g id=\"graph0\" class=\"graph\" transform=\"scale(1 1) rotate(0) translate(4 256)\">\n",
       "<title>%3</title>\n",
       "<polygon fill=\"white\" stroke=\"none\" points=\"-4,4 -4,-256 279.689,-256 279.689,4 -4,4\"/>\n",
       "<!-- Softmax -->\n",
       "<g id=\"node1\" class=\"node\"><title>Softmax</title>\n",
       "<ellipse fill=\"none\" stroke=\"black\" cx=\"134.095\" cy=\"-18\" rx=\"40.8928\" ry=\"18\"/>\n",
       "<text text-anchor=\"middle\" x=\"134.095\" y=\"-14.3\" font-family=\"Times,serif\" font-size=\"14.00\">Softmax</text>\n",
       "</g>\n",
       "<!-- MatMul_1 -->\n",
       "<g id=\"node2\" class=\"node\"><title>MatMul_1</title>\n",
       "<ellipse fill=\"none\" stroke=\"black\" cx=\"134.095\" cy=\"-90\" rx=\"49.2915\" ry=\"18\"/>\n",
       "<text text-anchor=\"middle\" x=\"134.095\" y=\"-86.3\" font-family=\"Times,serif\" font-size=\"14.00\">MatMul_1</text>\n",
       "</g>\n",
       "<!-- MatMul_1&#45;&gt;Softmax -->\n",
       "<g id=\"edge1\" class=\"edge\"><title>MatMul_1&#45;&gt;Softmax</title>\n",
       "<path fill=\"none\" stroke=\"black\" d=\"M134.095,-71.6966C134.095,-63.9827 134.095,-54.7125 134.095,-46.1124\"/>\n",
       "<polygon fill=\"black\" stroke=\"black\" points=\"137.595,-46.1043 134.095,-36.1043 130.595,-46.1044 137.595,-46.1043\"/>\n",
       "</g>\n",
       "<!-- Placeholder_1 -->\n",
       "<g id=\"node3\" class=\"node\"><title>Placeholder_1</title>\n",
       "<ellipse fill=\"none\" stroke=\"black\" cx=\"61.0946\" cy=\"-162\" rx=\"61.1893\" ry=\"18\"/>\n",
       "<text text-anchor=\"middle\" x=\"61.0946\" y=\"-158.3\" font-family=\"Times,serif\" font-size=\"14.00\">Placeholder_1</text>\n",
       "</g>\n",
       "<!-- Placeholder_1&#45;&gt;MatMul_1 -->\n",
       "<g id=\"edge2\" class=\"edge\"><title>Placeholder_1&#45;&gt;MatMul_1</title>\n",
       "<path fill=\"none\" stroke=\"black\" d=\"M78.3946,-144.411C87.8942,-135.302 99.8196,-123.866 110.196,-113.916\"/>\n",
       "<polygon fill=\"black\" stroke=\"black\" points=\"112.626,-116.436 117.421,-106.988 107.781,-111.383 112.626,-116.436\"/>\n",
       "</g>\n",
       "<!-- Variable_1/read -->\n",
       "<g id=\"node4\" class=\"node\"><title>Variable_1/read</title>\n",
       "<ellipse fill=\"none\" stroke=\"black\" cx=\"208.095\" cy=\"-162\" rx=\"67.6881\" ry=\"18\"/>\n",
       "<text text-anchor=\"middle\" x=\"208.095\" y=\"-158.3\" font-family=\"Times,serif\" font-size=\"14.00\">Variable_1/read</text>\n",
       "</g>\n",
       "<!-- Variable_1/read&#45;&gt;MatMul_1 -->\n",
       "<g id=\"edge3\" class=\"edge\"><title>Variable_1/read&#45;&gt;MatMul_1</title>\n",
       "<path fill=\"none\" stroke=\"black\" d=\"M190.558,-144.411C180.928,-135.302 168.839,-123.866 158.32,-113.916\"/>\n",
       "<polygon fill=\"black\" stroke=\"black\" points=\"160.666,-111.317 150.996,-106.988 155.856,-116.403 160.666,-111.317\"/>\n",
       "</g>\n",
       "<!-- Variable_1 -->\n",
       "<g id=\"node5\" class=\"node\"><title>Variable_1</title>\n",
       "<ellipse fill=\"none\" stroke=\"black\" cx=\"208.095\" cy=\"-234\" rx=\"50.0912\" ry=\"18\"/>\n",
       "<text text-anchor=\"middle\" x=\"208.095\" y=\"-230.3\" font-family=\"Times,serif\" font-size=\"14.00\">Variable_1</text>\n",
       "</g>\n",
       "<!-- Variable_1&#45;&gt;Variable_1/read -->\n",
       "<g id=\"edge4\" class=\"edge\"><title>Variable_1&#45;&gt;Variable_1/read</title>\n",
       "<path fill=\"none\" stroke=\"black\" d=\"M208.095,-215.697C208.095,-207.983 208.095,-198.712 208.095,-190.112\"/>\n",
       "<polygon fill=\"black\" stroke=\"black\" points=\"211.595,-190.104 208.095,-180.104 204.595,-190.104 211.595,-190.104\"/>\n",
       "</g>\n",
       "</g>\n",
       "</svg>\n"
      ],
      "text/plain": [
       "<__main__.TensorflowGraphToDot at 0x7f6ff70e3da0>"
      ]
     },
     "execution_count": 16,
     "metadata": {},
     "output_type": "execute_result"
    }
   ],
   "source": [
    "x = tf.placeholder(tf.float32, [None, 784])\n",
    "y = tf.placeholder(tf.float32, [None, 10])\n",
    "W = tf.Variable(tf.zeros([784, 10]))\n",
    "logits = tf.matmul(x, W)\n",
    "probabilities = tf.nn.softmax(logits)\n",
    "TensorflowGraphToDot(probabilities)"
   ]
  },
  {
   "cell_type": "markdown",
   "metadata": {
    "slideshow": {
     "slide_type": "subslide"
    }
   },
   "source": [
    "### Loss-function\n",
    "\n",
    "For **multi-class classification** one usually wants to minimize the **cross-entropy**.\n",
    "\n",
    "$$ H(y,p) = - \\sum_{i=1}^{10} y_i \\log p_i $$\n",
    "\n",
    "Keep in mind that we always operate on a batch of images (for instance $N = 100$ images per minimization-step).\n",
    "Therefore our loss-function is the average cross-entropy.\n",
    "$$ \\mathcal{L} = \\frac{1}{N} \\sum_{j=1}^{N} H(y_j,p_j) $$"
   ]
  },
  {
   "cell_type": "markdown",
   "metadata": {
    "slideshow": {
     "slide_type": "skip"
    }
   },
   "source": [
    "The cross entropy loss-function is particulary well-suited for multi-class classification problems."
   ]
  },
  {
   "cell_type": "code",
   "execution_count": 17,
   "metadata": {},
   "outputs": [],
   "source": [
    "cross_entropy = -tf.reduce_sum(y * tf.log(probabilities + 0.001), axis=[1])\n",
    "loss_function = tf.reduce_mean(cross_entropy)"
   ]
  },
  {
   "cell_type": "markdown",
   "metadata": {
    "slideshow": {
     "slide_type": "subslide"
    }
   },
   "source": [
    "### Optimization\n",
    "We use a simple gradient-descent optimizer.\n",
    "\n",
    "$$ \\Delta W = - \\eta \\frac{\\partial \\mathcal{L}}{\\partial W} \\quad \\quad \\textrm{where} \\quad \\eta = 0.5 $$\n"
   ]
  },
  {
   "cell_type": "markdown",
   "metadata": {
    "slideshow": {
     "slide_type": "skip"
    }
   },
   "source": [
    "Tensorflow provides many different optimizers\n",
    "  - tf.train.AdamOptimizer\n",
    "  - tf.train.FtrlOptimizer\n",
    "  \n",
    "Empirically you can expect that a more advanced optimizer will:\n",
    "  - converge faster\n",
    "  - generalize worse (although there is some debate why...)\n",
    "Surprisingly, `L-BFGS` is not available, but at least I never missed it."
   ]
  },
  {
   "cell_type": "code",
   "execution_count": 18,
   "metadata": {},
   "outputs": [],
   "source": [
    "minimize = tf.train.GradientDescentOptimizer(0.5).minimize(loss_function)"
   ]
  },
  {
   "cell_type": "markdown",
   "metadata": {
    "slideshow": {
     "slide_type": "subslide"
    }
   },
   "source": [
    "### Training\n",
    "\n",
    "Training in tensorflow means just running the **minimize** operation multiple times, here we run 1000 minimization steps. In each step we process a batch of 100 images, and adjusts the weights to minimize the mean cross-entropy of the batch."
   ]
  },
  {
   "cell_type": "markdown",
   "metadata": {
    "slideshow": {
     "slide_type": "subslide"
    }
   },
   "source": [
    "### Initializing the Session\n",
    "\n",
    "Before the training we have to open a new session and initialize all global variables used by tensorflow internally"
   ]
  },
  {
   "cell_type": "markdown",
   "metadata": {
    "slideshow": {
     "slide_type": "skip"
    }
   },
   "source": [
    "In the next line we directly execute the tf.global_variables_initializer operation by calling its `run` method.\n",
    "This is a short hand for `session.run(tf.global_variables_initializer())`"
   ]
  },
  {
   "cell_type": "code",
   "execution_count": 19,
   "metadata": {},
   "outputs": [],
   "source": [
    "session = tf.InteractiveSession()\n",
    "tf.global_variables_initializer().run()"
   ]
  },
  {
   "cell_type": "markdown",
   "metadata": {
    "slideshow": {
     "slide_type": "subslide"
    }
   },
   "source": [
    "### The main training loop"
   ]
  },
  {
   "cell_type": "markdown",
   "metadata": {
    "slideshow": {
     "slide_type": "skip"
    }
   },
   "source": [
    "Efficiently loading, preprocessing, shuffling and iterating through your training dataset is a huge topic. But we don't have the time to go into detail here. Tensorflow does have the capability to asynchroneously load your data from disk or from the network, while your current batch is processed.\n",
    "\n",
    "Here we just load the training images of the mnist dataset, 100 at a time, and pass it to the `minimize` operation using the `feed_dict`. For each call of `minimize` the optimizer performs one optimization step. In total we perform 1000 optimization steps.\n",
    "In practise you can use **early stopping** to dynamically decide how many steps you want to do."
   ]
  },
  {
   "cell_type": "code",
   "execution_count": 20,
   "metadata": {},
   "outputs": [],
   "source": [
    "for i in range(1000):\n",
    "    batch_xs, batch_ys = mnist.train.next_batch(100)\n",
    "    session.run(minimize, feed_dict={x: batch_xs, y: batch_ys})"
   ]
  },
  {
   "cell_type": "markdown",
   "metadata": {
    "slideshow": {
     "slide_type": "subslide"
    }
   },
   "source": [
    "### Direct Evaluation\n",
    "\n",
    "Finally we evaluate the linear model. We are interested in the **accuracy** of our model."
   ]
  },
  {
   "cell_type": "markdown",
   "metadata": {
    "slideshow": {
     "slide_type": "skip"
    }
   },
   "source": [
    "We used the `tf.nn.softmax` activation function. So our linear model will output a vector of numbers between 0 and 1. Each number can be interpreted as the probability of the image showing a certain digit.\n",
    "So to evaluate our model we have to check how often the position of the highest probability coincidents with the correct label (here the label is one-hot encoded, so we have to take `tf.argmax` here as well)."
   ]
  },
  {
   "cell_type": "code",
   "execution_count": 21,
   "metadata": {},
   "outputs": [
    {
     "name": "stdout",
     "output_type": "stream",
     "text": [
      "Train 0.9164364\n",
      "Test  0.9173\n"
     ]
    }
   ],
   "source": [
    "correct_prediction = tf.equal(tf.argmax(probabilities, 1), tf.argmax(y, 1))\n",
    "accuracy = tf.reduce_mean(tf.cast(correct_prediction, tf.float32))\n",
    "print(\"Train\", session.run(accuracy, feed_dict={x: mnist.train.images, y: mnist.train.labels}))\n",
    "print(\"Test \", session.run(accuracy, feed_dict={x: mnist.test.images, y: mnist.test.labels}))"
   ]
  },
  {
   "cell_type": "markdown",
   "metadata": {
    "slideshow": {
     "slide_type": "subslide"
    }
   },
   "source": [
    "<div class=\"alert alert-block alert-info\">\n",
    "<h3>Exercise</h3>\n",
    "Add a bias $\\vec{b}$ to the linear model\n",
    "\n",
    "$$ f(\\vec{x}) = \\underbrace{\\frac{\\exp \\vec{l}}{\\sum_{i=1}^{10} \\exp l_i}}_{\\mathrm{softmax}(l)} \\quad \\quad \\textrm{where} \\quad \\vec{l} = W \\cdot \\vec{x} + \\vec{b}$$\n",
    "\n",
    "<h3>Question</h3>\n",
    "What is the purpose of the bias?\n",
    "</div>"
   ]
  },
  {
   "cell_type": "markdown",
   "metadata": {
    "slideshow": {
     "slide_type": "slide"
    }
   },
   "source": [
    "# Neural Network in Tensorflow\n",
    "\n",
    "  - Automatic Differentiationen $\\rightarrow$ you only implement the forward pass\n",
    "  - Graph is automatically compiled for CPU, GPU, TPU, ... $\\rightarrow$ you don't have to write C++, CUDA, ...\n",
    "  - Predefined functions for neural network building blocks $\\rightarrow$ you don't have to implement convolution yourself\n",
    "\n",
    "**Let us take a look at those predefined functions**"
   ]
  },
  {
   "cell_type": "markdown",
   "metadata": {
    "slideshow": {
     "slide_type": "subslide"
    }
   },
   "source": [
    "## `tf.layers`\n",
    "\n",
    "The `tf.layers` package contains pre-defined layers commonly used in neural networks:\n",
    "  - convolution layers: `tf.layers.conv2d`\n",
    "  - pooling layers: `tf.layers.max_pooling2d`\n",
    "  - dense (or fully-connected) layers: `tf.layers.dense`\n",
    "\n",
    "https://www.tensorflow.org/api_docs/python/tf/layers\n",
    "\n",
    "Using those layers we can easily build a more complex neural network without having to define the weight variables ourselves (like we did in the low-level exercise)."
   ]
  },
  {
   "cell_type": "markdown",
   "metadata": {
    "slideshow": {
     "slide_type": "skip"
    }
   },
   "source": [
    "Here we write our first \"real\" neural network:\n",
    "    1. We reshape the 1-dimensional 784 array to a 28x28x1 tensor (the 2d image with 1 channel)\n",
    "    2. We apply a 2d-convolution followed by a ReLU activation function onto the image and get out a 28x28x32 tensor (32 2d feature maps)\n",
    "    3. We apply max-pooling to reduce the resolution of the feature maps (7x7x32)\n",
    "    4. We flatten the 2d-feature maps and obtain an 1568 dimensional intermediate representation\n",
    "    5. We apply a fully-connected layer (also called dense layer) with 10 outputs and a linear activation function\n",
    "\n",
    "The resulting graph is already quite complicated.\n",
    "As you can see you could easily add additional convolution layers."
   ]
  },
  {
   "cell_type": "code",
   "execution_count": 37,
   "metadata": {
    "slideshow": {
     "slide_type": "subslide"
    }
   },
   "outputs": [
    {
     "data": {
      "image/svg+xml": [
       "<?xml version=\"1.0\" encoding=\"UTF-8\" standalone=\"no\"?>\n",
       "<!DOCTYPE svg PUBLIC \"-//W3C//DTD SVG 1.1//EN\"\n",
       " \"http://www.w3.org/Graphics/SVG/1.1/DTD/svg11.dtd\">\n",
       "<!-- Generated by graphviz version 2.38.0 (20140413.2041)\n",
       " -->\n",
       "<!-- Title: %3 Pages: 1 -->\n",
       "<svg width=\"432pt\" height=\"309pt\"\n",
       " viewBox=\"0.00 0.00 432.00 309.28\" xmlns=\"http://www.w3.org/2000/svg\" xmlns:xlink=\"http://www.w3.org/1999/xlink\">\n",
       "<g id=\"graph0\" class=\"graph\" transform=\"scale(0.369947 0.369947) rotate(0) translate(4 832)\">\n",
       "<title>%3</title>\n",
       "<polygon fill=\"white\" stroke=\"none\" points=\"-4,4 -4,-832 1163.74,-832 1163.74,4 -4,4\"/>\n",
       "<!-- dense/BiasAdd -->\n",
       "<g id=\"node1\" class=\"node\"><title>dense/BiasAdd</title>\n",
       "<ellipse fill=\"none\" stroke=\"black\" cx=\"1021.74\" cy=\"-18\" rx=\"63.8893\" ry=\"18\"/>\n",
       "<text text-anchor=\"middle\" x=\"1021.74\" y=\"-14.3\" font-family=\"Times,serif\" font-size=\"14.00\">dense/BiasAdd</text>\n",
       "</g>\n",
       "<!-- dense/MatMul -->\n",
       "<g id=\"node2\" class=\"node\"><title>dense/MatMul</title>\n",
       "<ellipse fill=\"none\" stroke=\"black\" cx=\"948.741\" cy=\"-90\" rx=\"63.0888\" ry=\"18\"/>\n",
       "<text text-anchor=\"middle\" x=\"948.741\" y=\"-86.3\" font-family=\"Times,serif\" font-size=\"14.00\">dense/MatMul</text>\n",
       "</g>\n",
       "<!-- dense/MatMul&#45;&gt;dense/BiasAdd -->\n",
       "<g id=\"edge1\" class=\"edge\"><title>dense/MatMul&#45;&gt;dense/BiasAdd</title>\n",
       "<path fill=\"none\" stroke=\"black\" d=\"M966.041,-72.411C975.314,-63.519 986.899,-52.4107 997.097,-42.6309\"/>\n",
       "<polygon fill=\"black\" stroke=\"black\" points=\"999.77,-44.9174 1004.57,-35.4699 994.925,-39.8649 999.77,-44.9174\"/>\n",
       "</g>\n",
       "<!-- dense/bias/read -->\n",
       "<g id=\"node3\" class=\"node\"><title>dense/bias/read</title>\n",
       "<ellipse fill=\"none\" stroke=\"black\" cx=\"1094.74\" cy=\"-90\" rx=\"64.9885\" ry=\"18\"/>\n",
       "<text text-anchor=\"middle\" x=\"1094.74\" y=\"-86.3\" font-family=\"Times,serif\" font-size=\"14.00\">dense/bias/read</text>\n",
       "</g>\n",
       "<!-- dense/bias/read&#45;&gt;dense/BiasAdd -->\n",
       "<g id=\"edge2\" class=\"edge\"><title>dense/bias/read&#45;&gt;dense/BiasAdd</title>\n",
       "<path fill=\"none\" stroke=\"black\" d=\"M1077.44,-72.411C1068.17,-63.519 1056.58,-52.4107 1046.38,-42.6309\"/>\n",
       "<polygon fill=\"black\" stroke=\"black\" points=\"1048.56,-39.8649 1038.92,-35.4699 1043.71,-44.9174 1048.56,-39.8649\"/>\n",
       "</g>\n",
       "<!-- dense/bias -->\n",
       "<g id=\"node4\" class=\"node\"><title>dense/bias</title>\n",
       "<ellipse fill=\"none\" stroke=\"black\" cx=\"1094.74\" cy=\"-162\" rx=\"47.3916\" ry=\"18\"/>\n",
       "<text text-anchor=\"middle\" x=\"1094.74\" y=\"-158.3\" font-family=\"Times,serif\" font-size=\"14.00\">dense/bias</text>\n",
       "</g>\n",
       "<!-- dense/bias&#45;&gt;dense/bias/read -->\n",
       "<g id=\"edge3\" class=\"edge\"><title>dense/bias&#45;&gt;dense/bias/read</title>\n",
       "<path fill=\"none\" stroke=\"black\" d=\"M1094.74,-143.697C1094.74,-135.983 1094.74,-126.712 1094.74,-118.112\"/>\n",
       "<polygon fill=\"black\" stroke=\"black\" points=\"1098.24,-118.104 1094.74,-108.104 1091.24,-118.104 1098.24,-118.104\"/>\n",
       "</g>\n",
       "<!-- flatten/Reshape -->\n",
       "<g id=\"node5\" class=\"node\"><title>flatten/Reshape</title>\n",
       "<ellipse fill=\"none\" stroke=\"black\" cx=\"796.741\" cy=\"-162\" rx=\"65.7887\" ry=\"18\"/>\n",
       "<text text-anchor=\"middle\" x=\"796.741\" y=\"-158.3\" font-family=\"Times,serif\" font-size=\"14.00\">flatten/Reshape</text>\n",
       "</g>\n",
       "<!-- flatten/Reshape&#45;&gt;dense/MatMul -->\n",
       "<g id=\"edge4\" class=\"edge\"><title>flatten/Reshape&#45;&gt;dense/MatMul</title>\n",
       "<path fill=\"none\" stroke=\"black\" d=\"M828.976,-146.155C852.004,-135.55 883.163,-121.201 907.926,-109.796\"/>\n",
       "<polygon fill=\"black\" stroke=\"black\" points=\"909.454,-112.946 917.073,-105.584 906.526,-106.588 909.454,-112.946\"/>\n",
       "</g>\n",
       "<!-- dense/kernel/read -->\n",
       "<g id=\"node6\" class=\"node\"><title>dense/kernel/read</title>\n",
       "<ellipse fill=\"none\" stroke=\"black\" cx=\"952.741\" cy=\"-162\" rx=\"72.5877\" ry=\"18\"/>\n",
       "<text text-anchor=\"middle\" x=\"952.741\" y=\"-158.3\" font-family=\"Times,serif\" font-size=\"14.00\">dense/kernel/read</text>\n",
       "</g>\n",
       "<!-- dense/kernel/read&#45;&gt;dense/MatMul -->\n",
       "<g id=\"edge5\" class=\"edge\"><title>dense/kernel/read&#45;&gt;dense/MatMul</title>\n",
       "<path fill=\"none\" stroke=\"black\" d=\"M951.752,-143.697C951.312,-135.983 950.782,-126.712 950.29,-118.112\"/>\n",
       "<polygon fill=\"black\" stroke=\"black\" points=\"953.783,-117.888 949.718,-108.104 946.795,-118.288 953.783,-117.888\"/>\n",
       "</g>\n",
       "<!-- dense/kernel -->\n",
       "<g id=\"node7\" class=\"node\"><title>dense/kernel</title>\n",
       "<ellipse fill=\"none\" stroke=\"black\" cx=\"952.741\" cy=\"-234\" rx=\"55.4913\" ry=\"18\"/>\n",
       "<text text-anchor=\"middle\" x=\"952.741\" y=\"-230.3\" font-family=\"Times,serif\" font-size=\"14.00\">dense/kernel</text>\n",
       "</g>\n",
       "<!-- dense/kernel&#45;&gt;dense/kernel/read -->\n",
       "<g id=\"edge6\" class=\"edge\"><title>dense/kernel&#45;&gt;dense/kernel/read</title>\n",
       "<path fill=\"none\" stroke=\"black\" d=\"M952.741,-215.697C952.741,-207.983 952.741,-198.712 952.741,-190.112\"/>\n",
       "<polygon fill=\"black\" stroke=\"black\" points=\"956.241,-190.104 952.741,-180.104 949.241,-190.104 956.241,-190.104\"/>\n",
       "</g>\n",
       "<!-- max_pooling2d/MaxPool -->\n",
       "<g id=\"node8\" class=\"node\"><title>max_pooling2d/MaxPool</title>\n",
       "<ellipse fill=\"none\" stroke=\"black\" cx=\"790.741\" cy=\"-450\" rx=\"101.282\" ry=\"18\"/>\n",
       "<text text-anchor=\"middle\" x=\"790.741\" y=\"-446.3\" font-family=\"Times,serif\" font-size=\"14.00\">max_pooling2d/MaxPool</text>\n",
       "</g>\n",
       "<!-- max_pooling2d/MaxPool&#45;&gt;flatten/Reshape -->\n",
       "<g id=\"edge7\" class=\"edge\"><title>max_pooling2d/MaxPool&#45;&gt;flatten/Reshape</title>\n",
       "<path fill=\"none\" stroke=\"black\" d=\"M800.695,-431.978C806.013,-421.888 812.013,-408.638 814.741,-396 830.559,-322.725 814.167,-233.849 803.821,-190.062\"/>\n",
       "<polygon fill=\"black\" stroke=\"black\" points=\"807.181,-189.067 801.406,-180.184 800.381,-190.729 807.181,-189.067\"/>\n",
       "</g>\n",
       "<!-- flatten/Shape -->\n",
       "<g id=\"node13\" class=\"node\"><title>flatten/Shape</title>\n",
       "<ellipse fill=\"none\" stroke=\"black\" cx=\"748.741\" cy=\"-378\" rx=\"57.3905\" ry=\"18\"/>\n",
       "<text text-anchor=\"middle\" x=\"748.741\" y=\"-374.3\" font-family=\"Times,serif\" font-size=\"14.00\">flatten/Shape</text>\n",
       "</g>\n",
       "<!-- max_pooling2d/MaxPool&#45;&gt;flatten/Shape -->\n",
       "<g id=\"edge17\" class=\"edge\"><title>max_pooling2d/MaxPool&#45;&gt;flatten/Shape</title>\n",
       "<path fill=\"none\" stroke=\"black\" d=\"M780.574,-432.055C775.621,-423.801 769.562,-413.701 764.064,-404.538\"/>\n",
       "<polygon fill=\"black\" stroke=\"black\" points=\"766.961,-402.563 758.814,-395.789 760.958,-406.165 766.961,-402.563\"/>\n",
       "</g>\n",
       "<!-- flatten/Reshape/shape -->\n",
       "<g id=\"node9\" class=\"node\"><title>flatten/Reshape/shape</title>\n",
       "<ellipse fill=\"none\" stroke=\"black\" cx=\"564.741\" cy=\"-234\" rx=\"87.9851\" ry=\"18\"/>\n",
       "<text text-anchor=\"middle\" x=\"564.741\" y=\"-230.3\" font-family=\"Times,serif\" font-size=\"14.00\">flatten/Reshape/shape</text>\n",
       "</g>\n",
       "<!-- flatten/Reshape/shape&#45;&gt;flatten/Reshape -->\n",
       "<g id=\"edge8\" class=\"edge\"><title>flatten/Reshape/shape&#45;&gt;flatten/Reshape</title>\n",
       "<path fill=\"none\" stroke=\"black\" d=\"M611.969,-218.75C650.442,-207.142 704.711,-190.768 744.483,-178.768\"/>\n",
       "<polygon fill=\"black\" stroke=\"black\" points=\"745.7,-182.056 754.263,-175.817 743.678,-175.355 745.7,-182.056\"/>\n",
       "</g>\n",
       "<!-- flatten/strided_slice -->\n",
       "<g id=\"node10\" class=\"node\"><title>flatten/strided_slice</title>\n",
       "<ellipse fill=\"none\" stroke=\"black\" cx=\"564.741\" cy=\"-306\" rx=\"79.8859\" ry=\"18\"/>\n",
       "<text text-anchor=\"middle\" x=\"564.741\" y=\"-302.3\" font-family=\"Times,serif\" font-size=\"14.00\">flatten/strided_slice</text>\n",
       "</g>\n",
       "<!-- flatten/strided_slice&#45;&gt;flatten/Reshape/shape -->\n",
       "<g id=\"edge9\" class=\"edge\"><title>flatten/strided_slice&#45;&gt;flatten/Reshape/shape</title>\n",
       "<path fill=\"none\" stroke=\"black\" d=\"M564.741,-287.697C564.741,-279.983 564.741,-270.712 564.741,-262.112\"/>\n",
       "<polygon fill=\"black\" stroke=\"black\" points=\"568.241,-262.104 564.741,-252.104 561.241,-262.104 568.241,-262.104\"/>\n",
       "</g>\n",
       "<!-- flatten/Reshape/shape/1 -->\n",
       "<g id=\"node11\" class=\"node\"><title>flatten/Reshape/shape/1</title>\n",
       "<ellipse fill=\"none\" stroke=\"black\" cx=\"371.741\" cy=\"-306\" rx=\"94.7833\" ry=\"18\"/>\n",
       "<text text-anchor=\"middle\" x=\"371.741\" y=\"-302.3\" font-family=\"Times,serif\" font-size=\"14.00\">flatten/Reshape/shape/1</text>\n",
       "</g>\n",
       "<!-- flatten/Reshape/shape/1&#45;&gt;flatten/Reshape/shape -->\n",
       "<g id=\"edge10\" class=\"edge\"><title>flatten/Reshape/shape/1&#45;&gt;flatten/Reshape/shape</title>\n",
       "<path fill=\"none\" stroke=\"black\" d=\"M413.619,-289.811C443.158,-279.098 482.877,-264.691 514.183,-253.337\"/>\n",
       "<polygon fill=\"black\" stroke=\"black\" points=\"515.4,-256.619 523.608,-249.919 513.014,-250.038 515.4,-256.619\"/>\n",
       "</g>\n",
       "<!-- conv2d/Relu -->\n",
       "<g id=\"node12\" class=\"node\"><title>conv2d/Relu</title>\n",
       "<ellipse fill=\"none\" stroke=\"black\" cx=\"790.741\" cy=\"-522\" rx=\"55.7903\" ry=\"18\"/>\n",
       "<text text-anchor=\"middle\" x=\"790.741\" y=\"-518.3\" font-family=\"Times,serif\" font-size=\"14.00\">conv2d/Relu</text>\n",
       "</g>\n",
       "<!-- conv2d/Relu&#45;&gt;max_pooling2d/MaxPool -->\n",
       "<g id=\"edge11\" class=\"edge\"><title>conv2d/Relu&#45;&gt;max_pooling2d/MaxPool</title>\n",
       "<path fill=\"none\" stroke=\"black\" d=\"M790.741,-503.697C790.741,-495.983 790.741,-486.712 790.741,-478.112\"/>\n",
       "<polygon fill=\"black\" stroke=\"black\" points=\"794.241,-478.104 790.741,-468.104 787.241,-478.104 794.241,-478.104\"/>\n",
       "</g>\n",
       "<!-- flatten/Shape&#45;&gt;flatten/strided_slice -->\n",
       "<g id=\"edge12\" class=\"edge\"><title>flatten/Shape&#45;&gt;flatten/strided_slice</title>\n",
       "<path fill=\"none\" stroke=\"black\" d=\"M713.699,-363.669C685.256,-352.848 644.839,-337.472 613.28,-325.466\"/>\n",
       "<polygon fill=\"black\" stroke=\"black\" points=\"614.385,-322.141 603.794,-321.857 611.895,-328.684 614.385,-322.141\"/>\n",
       "</g>\n",
       "<!-- flatten/strided_slice/stack -->\n",
       "<g id=\"node14\" class=\"node\"><title>flatten/strided_slice/stack</title>\n",
       "<ellipse fill=\"none\" stroke=\"black\" cx=\"100.741\" cy=\"-378\" rx=\"100.983\" ry=\"18\"/>\n",
       "<text text-anchor=\"middle\" x=\"100.741\" y=\"-374.3\" font-family=\"Times,serif\" font-size=\"14.00\">flatten/strided_slice/stack</text>\n",
       "</g>\n",
       "<!-- flatten/strided_slice/stack&#45;&gt;flatten/strided_slice -->\n",
       "<g id=\"edge13\" class=\"edge\"><title>flatten/strided_slice/stack&#45;&gt;flatten/strided_slice</title>\n",
       "<path fill=\"none\" stroke=\"black\" d=\"M173.787,-365.519C186.116,-363.637 198.789,-361.735 210.741,-360 328.367,-342.922 358.435,-343.157 475.741,-324 482.521,-322.893 489.578,-321.669 496.62,-320.4\"/>\n",
       "<polygon fill=\"black\" stroke=\"black\" points=\"497.688,-323.762 506.893,-318.517 496.425,-316.877 497.688,-323.762\"/>\n",
       "</g>\n",
       "<!-- flatten/strided_slice/stack_1 -->\n",
       "<g id=\"node15\" class=\"node\"><title>flatten/strided_slice/stack_1</title>\n",
       "<ellipse fill=\"none\" stroke=\"black\" cx=\"328.741\" cy=\"-378\" rx=\"109.381\" ry=\"18\"/>\n",
       "<text text-anchor=\"middle\" x=\"328.741\" y=\"-374.3\" font-family=\"Times,serif\" font-size=\"14.00\">flatten/strided_slice/stack_1</text>\n",
       "</g>\n",
       "<!-- flatten/strided_slice/stack_1&#45;&gt;flatten/strided_slice -->\n",
       "<g id=\"edge14\" class=\"edge\"><title>flatten/strided_slice/stack_1&#45;&gt;flatten/strided_slice</title>\n",
       "<path fill=\"none\" stroke=\"black\" d=\"M379.369,-361.983C417.326,-350.725 469.269,-335.318 508.515,-323.677\"/>\n",
       "<polygon fill=\"black\" stroke=\"black\" points=\"509.611,-327.003 518.203,-320.804 507.621,-320.292 509.611,-327.003\"/>\n",
       "</g>\n",
       "<!-- flatten/strided_slice/stack_2 -->\n",
       "<g id=\"node16\" class=\"node\"><title>flatten/strided_slice/stack_2</title>\n",
       "<ellipse fill=\"none\" stroke=\"black\" cx=\"564.741\" cy=\"-378\" rx=\"109.381\" ry=\"18\"/>\n",
       "<text text-anchor=\"middle\" x=\"564.741\" y=\"-374.3\" font-family=\"Times,serif\" font-size=\"14.00\">flatten/strided_slice/stack_2</text>\n",
       "</g>\n",
       "<!-- flatten/strided_slice/stack_2&#45;&gt;flatten/strided_slice -->\n",
       "<g id=\"edge15\" class=\"edge\"><title>flatten/strided_slice/stack_2&#45;&gt;flatten/strided_slice</title>\n",
       "<path fill=\"none\" stroke=\"black\" d=\"M564.741,-359.697C564.741,-351.983 564.741,-342.712 564.741,-334.112\"/>\n",
       "<polygon fill=\"black\" stroke=\"black\" points=\"568.241,-334.104 564.741,-324.104 561.241,-334.104 568.241,-334.104\"/>\n",
       "</g>\n",
       "<!-- conv2d/BiasAdd -->\n",
       "<g id=\"node17\" class=\"node\"><title>conv2d/BiasAdd</title>\n",
       "<ellipse fill=\"none\" stroke=\"black\" cx=\"790.741\" cy=\"-594\" rx=\"69.5877\" ry=\"18\"/>\n",
       "<text text-anchor=\"middle\" x=\"790.741\" y=\"-590.3\" font-family=\"Times,serif\" font-size=\"14.00\">conv2d/BiasAdd</text>\n",
       "</g>\n",
       "<!-- conv2d/BiasAdd&#45;&gt;conv2d/Relu -->\n",
       "<g id=\"edge16\" class=\"edge\"><title>conv2d/BiasAdd&#45;&gt;conv2d/Relu</title>\n",
       "<path fill=\"none\" stroke=\"black\" d=\"M790.741,-575.697C790.741,-567.983 790.741,-558.712 790.741,-550.112\"/>\n",
       "<polygon fill=\"black\" stroke=\"black\" points=\"794.241,-550.104 790.741,-540.104 787.241,-550.104 794.241,-550.104\"/>\n",
       "</g>\n",
       "<!-- conv2d/Conv2D -->\n",
       "<g id=\"node18\" class=\"node\"><title>conv2d/Conv2D</title>\n",
       "<ellipse fill=\"none\" stroke=\"black\" cx=\"711.741\" cy=\"-666\" rx=\"68.7879\" ry=\"18\"/>\n",
       "<text text-anchor=\"middle\" x=\"711.741\" y=\"-662.3\" font-family=\"Times,serif\" font-size=\"14.00\">conv2d/Conv2D</text>\n",
       "</g>\n",
       "<!-- conv2d/Conv2D&#45;&gt;conv2d/BiasAdd -->\n",
       "<g id=\"edge18\" class=\"edge\"><title>conv2d/Conv2D&#45;&gt;conv2d/BiasAdd</title>\n",
       "<path fill=\"none\" stroke=\"black\" d=\"M730.463,-648.411C740.597,-639.432 753.281,-628.193 764.396,-618.344\"/>\n",
       "<polygon fill=\"black\" stroke=\"black\" points=\"766.99,-620.721 772.154,-611.47 762.348,-615.482 766.99,-620.721\"/>\n",
       "</g>\n",
       "<!-- conv2d/bias/read -->\n",
       "<g id=\"node19\" class=\"node\"><title>conv2d/bias/read</title>\n",
       "<ellipse fill=\"none\" stroke=\"black\" cx=\"869.741\" cy=\"-666\" rx=\"70.6878\" ry=\"18\"/>\n",
       "<text text-anchor=\"middle\" x=\"869.741\" y=\"-662.3\" font-family=\"Times,serif\" font-size=\"14.00\">conv2d/bias/read</text>\n",
       "</g>\n",
       "<!-- conv2d/bias/read&#45;&gt;conv2d/BiasAdd -->\n",
       "<g id=\"edge19\" class=\"edge\"><title>conv2d/bias/read&#45;&gt;conv2d/BiasAdd</title>\n",
       "<path fill=\"none\" stroke=\"black\" d=\"M851.019,-648.411C840.886,-639.432 828.201,-628.193 817.086,-618.344\"/>\n",
       "<polygon fill=\"black\" stroke=\"black\" points=\"819.134,-615.482 809.329,-611.47 814.492,-620.721 819.134,-615.482\"/>\n",
       "</g>\n",
       "<!-- conv2d/bias -->\n",
       "<g id=\"node20\" class=\"node\"><title>conv2d/bias</title>\n",
       "<ellipse fill=\"none\" stroke=\"black\" cx=\"869.741\" cy=\"-738\" rx=\"53.0913\" ry=\"18\"/>\n",
       "<text text-anchor=\"middle\" x=\"869.741\" y=\"-734.3\" font-family=\"Times,serif\" font-size=\"14.00\">conv2d/bias</text>\n",
       "</g>\n",
       "<!-- conv2d/bias&#45;&gt;conv2d/bias/read -->\n",
       "<g id=\"edge20\" class=\"edge\"><title>conv2d/bias&#45;&gt;conv2d/bias/read</title>\n",
       "<path fill=\"none\" stroke=\"black\" d=\"M869.741,-719.697C869.741,-711.983 869.741,-702.712 869.741,-694.112\"/>\n",
       "<polygon fill=\"black\" stroke=\"black\" points=\"873.241,-694.104 869.741,-684.104 866.241,-694.104 873.241,-694.104\"/>\n",
       "</g>\n",
       "<!-- Reshape -->\n",
       "<g id=\"node21\" class=\"node\"><title>Reshape</title>\n",
       "<ellipse fill=\"none\" stroke=\"black\" cx=\"576.741\" cy=\"-738\" rx=\"40.0939\" ry=\"18\"/>\n",
       "<text text-anchor=\"middle\" x=\"576.741\" y=\"-734.3\" font-family=\"Times,serif\" font-size=\"14.00\">Reshape</text>\n",
       "</g>\n",
       "<!-- Reshape&#45;&gt;conv2d/Conv2D -->\n",
       "<g id=\"edge21\" class=\"edge\"><title>Reshape&#45;&gt;conv2d/Conv2D</title>\n",
       "<path fill=\"none\" stroke=\"black\" d=\"M602.134,-723.834C622.138,-713.461 650.359,-698.828 673.154,-687.008\"/>\n",
       "<polygon fill=\"black\" stroke=\"black\" points=\"674.966,-690.011 682.232,-682.301 671.743,-683.797 674.966,-690.011\"/>\n",
       "</g>\n",
       "<!-- conv2d/kernel/read -->\n",
       "<g id=\"node22\" class=\"node\"><title>conv2d/kernel/read</title>\n",
       "<ellipse fill=\"none\" stroke=\"black\" cx=\"715.741\" cy=\"-738\" rx=\"78.7863\" ry=\"18\"/>\n",
       "<text text-anchor=\"middle\" x=\"715.741\" y=\"-734.3\" font-family=\"Times,serif\" font-size=\"14.00\">conv2d/kernel/read</text>\n",
       "</g>\n",
       "<!-- conv2d/kernel/read&#45;&gt;conv2d/Conv2D -->\n",
       "<g id=\"edge22\" class=\"edge\"><title>conv2d/kernel/read&#45;&gt;conv2d/Conv2D</title>\n",
       "<path fill=\"none\" stroke=\"black\" d=\"M714.752,-719.697C714.312,-711.983 713.782,-702.712 713.29,-694.112\"/>\n",
       "<polygon fill=\"black\" stroke=\"black\" points=\"716.783,-693.888 712.718,-684.104 709.795,-694.288 716.783,-693.888\"/>\n",
       "</g>\n",
       "<!-- Placeholder -->\n",
       "<g id=\"node23\" class=\"node\"><title>Placeholder</title>\n",
       "<ellipse fill=\"none\" stroke=\"black\" cx=\"443.741\" cy=\"-810\" rx=\"51.9908\" ry=\"18\"/>\n",
       "<text text-anchor=\"middle\" x=\"443.741\" y=\"-806.3\" font-family=\"Times,serif\" font-size=\"14.00\">Placeholder</text>\n",
       "</g>\n",
       "<!-- Placeholder&#45;&gt;Reshape -->\n",
       "<g id=\"edge23\" class=\"edge\"><title>Placeholder&#45;&gt;Reshape</title>\n",
       "<path fill=\"none\" stroke=\"black\" d=\"M470.977,-794.666C491.591,-783.816 520.048,-768.838 542.252,-757.152\"/>\n",
       "<polygon fill=\"black\" stroke=\"black\" points=\"544.125,-760.121 551.344,-752.367 540.865,-753.927 544.125,-760.121\"/>\n",
       "</g>\n",
       "<!-- Reshape/shape -->\n",
       "<g id=\"node24\" class=\"node\"><title>Reshape/shape</title>\n",
       "<ellipse fill=\"none\" stroke=\"black\" cx=\"576.741\" cy=\"-810\" rx=\"63.0888\" ry=\"18\"/>\n",
       "<text text-anchor=\"middle\" x=\"576.741\" y=\"-806.3\" font-family=\"Times,serif\" font-size=\"14.00\">Reshape/shape</text>\n",
       "</g>\n",
       "<!-- Reshape/shape&#45;&gt;Reshape -->\n",
       "<g id=\"edge24\" class=\"edge\"><title>Reshape/shape&#45;&gt;Reshape</title>\n",
       "<path fill=\"none\" stroke=\"black\" d=\"M576.741,-791.697C576.741,-783.983 576.741,-774.712 576.741,-766.112\"/>\n",
       "<polygon fill=\"black\" stroke=\"black\" points=\"580.241,-766.104 576.741,-756.104 573.241,-766.104 580.241,-766.104\"/>\n",
       "</g>\n",
       "<!-- conv2d/kernel -->\n",
       "<g id=\"node25\" class=\"node\"><title>conv2d/kernel</title>\n",
       "<ellipse fill=\"none\" stroke=\"black\" cx=\"718.741\" cy=\"-810\" rx=\"61.1893\" ry=\"18\"/>\n",
       "<text text-anchor=\"middle\" x=\"718.741\" y=\"-806.3\" font-family=\"Times,serif\" font-size=\"14.00\">conv2d/kernel</text>\n",
       "</g>\n",
       "<!-- conv2d/kernel&#45;&gt;conv2d/kernel/read -->\n",
       "<g id=\"edge25\" class=\"edge\"><title>conv2d/kernel&#45;&gt;conv2d/kernel/read</title>\n",
       "<path fill=\"none\" stroke=\"black\" d=\"M717.999,-791.697C717.669,-783.983 717.272,-774.712 716.903,-766.112\"/>\n",
       "<polygon fill=\"black\" stroke=\"black\" points=\"720.399,-765.945 716.474,-756.104 713.406,-766.245 720.399,-765.945\"/>\n",
       "</g>\n",
       "</g>\n",
       "</svg>\n"
      ],
      "text/plain": [
       "<__main__.TensorflowGraphToDot at 0x7f6fd08ee1d0>"
      ]
     },
     "execution_count": 37,
     "metadata": {},
     "output_type": "execute_result"
    }
   ],
   "source": [
    "tf.reset_default_graph()\n",
    "x = tf.placeholder(tf.float32, [None, 784])\n",
    "image = tf.reshape(x, [-1, 28, 28, 1])\n",
    "conv = tf.layers.conv2d(image, filters=32, kernel_size=[5, 5], padding=\"same\", activation=tf.nn.relu)\n",
    "pool = tf.layers.max_pooling2d(conv, pool_size=[4, 4], strides=4)\n",
    "flat = tf.layers.flatten(pool)\n",
    "logits = tf.layers.dense(flat, units=10)\n",
    "TensorflowGraphToDot(logits)"
   ]
  },
  {
   "cell_type": "markdown",
   "metadata": {
    "slideshow": {
     "slide_type": "subslide"
    }
   },
   "source": [
    "### Initalization and Regularization\n",
    "\n",
    "The layers provided by `tf.layers` have a common interface to define initalization and regularization.\n",
    "Most layers have at least the following parameters:\n",
    " - `activation`, the activation function used by this layer  e.g. `tf.nn.relu`\n",
    " - `kernel_initializer`, the initalisation function used to intialize the weights of the layer\n",
    " - `kernel_regularizer`, the regularizer used to regularize the weights of the layer e.g. $L_2$ or $L_1$\n",
    " - `kernel_constraint`, a projection function to enforce certaint constraints on the weights\n",
    " \n",
    "We won't go into further detail here. But we will use initialization and regularization in the high-level exercise using `tf.keras` later."
   ]
  },
  {
   "cell_type": "markdown",
   "metadata": {
    "slideshow": {
     "slide_type": "subslide"
    }
   },
   "source": [
    "## `tf.losses`\n",
    "\n",
    "The `tf.losses` package contains pre-defined loss-functions commonly used in neural networks.\n",
    "In contrast to the low-level API, the loss is automatically averaged over the current batch.\n",
    "\n",
    "https://www.tensorflow.org/api_docs/python/tf/losses"
   ]
  },
  {
   "cell_type": "markdown",
   "metadata": {
    "slideshow": {
     "slide_type": "skip"
    }
   },
   "source": [
    "Above we did define the cross-entropy loss ourselves. You should **never** do this. Implementing cross-entropy has many pitfalls and can easily get numerically instable. In particular in combination with the softmax operation (summation of exponentation followed by logarithm again!)\n",
    "\n",
    "Therefore it is best to apply the softmax and cross-entropy together, in one optimized function called `tf.losses.softmax_cross_entropy`.\n",
    "\n",
    "You can ignore the WARNING below, internally `tf.losses.softmax_cross_entropy` uses a deprecated function, this is something the tensorflow people have to fix :-)"
   ]
  },
  {
   "cell_type": "code",
   "execution_count": 38,
   "metadata": {},
   "outputs": [],
   "source": [
    "y = tf.placeholder(tf.float32, [None, 10])\n",
    "loss_function = tf.losses.softmax_cross_entropy(y, logits=logits)\n",
    "minimize = tf.train.GradientDescentOptimizer(0.5).minimize(loss_function)"
   ]
  },
  {
   "cell_type": "markdown",
   "metadata": {
    "slideshow": {
     "slide_type": "subslide"
    }
   },
   "source": [
    "## `tf.summary`\n",
    "\n",
    "During the training you can sample interesting quantities.\n",
    "Here we define two summary objects:\n",
    "  - a scalar summary (`tf.summary.scalar`), which records the accuracy during the training\n",
    "  - a histogram summary (`tf.summary.histogram`), which records the distribution of the maximum probability of each sample (a measure on \"how confident\" our network is in its decision)\n",
    "  "
   ]
  },
  {
   "cell_type": "markdown",
   "metadata": {
    "slideshow": {
     "slide_type": "skip"
    }
   },
   "source": [
    "In practise you will spent most of your time in debugging your network to obtain a stable training procedure with a good performance. Therefore it is important to have efficient ways to monitor and visualize your training procedure.\n",
    "\n",
    "Do not try to monitor you training with print statements, this approach does not scale. Always invest time to learn to use the right tool for a job, in this case `tf.summary` and `tensorboard`"
   ]
  },
  {
   "cell_type": "code",
   "execution_count": 39,
   "metadata": {},
   "outputs": [],
   "source": [
    "correct_prediction = tf.equal(tf.argmax(logits, 1), tf.argmax(y, 1))\n",
    "accuracy = tf.reduce_mean(tf.cast(correct_prediction, tf.float32))\n",
    "tf.summary.scalar('summary/accuracy', accuracy)\n",
    "tf.summary.histogram('summary/max_probability', tf.reduce_max(tf.nn.softmax(logits), axis=1))\n",
    "summary = tf.summary.merge_all()\n",
    "\n",
    "train_writer = tf.summary.FileWriter('train_log')\n",
    "train_writer.add_graph(tf.get_default_graph())\n",
    "test_writer = tf.summary.FileWriter('test_log')"
   ]
  },
  {
   "cell_type": "markdown",
   "metadata": {
    "slideshow": {
     "slide_type": "skip"
    }
   },
   "source": [
    "In addition to our previously established training procedure (calling minimize many times),\n",
    "we monitor our training by executing the summary operation after 10 minimization steps.\n",
    "We monitor the summary on the training sample, and on the test sample (so we can check for over-fitting!).\n",
    "Also we restrict the number of samples to 1000 for the summary, to speed up the computations."
   ]
  },
  {
   "cell_type": "code",
   "execution_count": 40,
   "metadata": {
    "slideshow": {
     "slide_type": "subslide"
    }
   },
   "outputs": [
    {
     "name": "stdout",
     "output_type": "stream",
     "text": [
      "0\n",
      "10\n",
      "20\n",
      "30\n",
      "40\n",
      "50\n",
      "60\n",
      "70\n",
      "80\n",
      "90\n"
     ]
    }
   ],
   "source": [
    "session = tf.InteractiveSession()\n",
    "tf.global_variables_initializer().run()\n",
    "for i in range(100):\n",
    "    batch_xs, batch_ys = mnist.train.next_batch(128)\n",
    "    session.run(minimize, feed_dict={x: batch_xs, y: batch_ys})\n",
    "\n",
    "    if i % 10 == 0:\n",
    "        print(i)\n",
    "        train_summary = session.run(summary, feed_dict={x: mnist.train.images[:1000], y: mnist.train.labels[:1000]})\n",
    "        train_writer.add_summary(train_summary, i)\n",
    "        test_summary = session.run(summary, feed_dict={x: mnist.test.images[:1000], y: mnist.test.labels[:1000]})\n",
    "        test_writer.add_summary(test_summary, i)    "
   ]
  },
  {
   "cell_type": "markdown",
   "metadata": {
    "slideshow": {
     "slide_type": "skip"
    }
   },
   "source": [
    "Let's check if we are actually improved on our previously established baseline.\n",
    "You should get out an accuracy above 94% now."
   ]
  },
  {
   "cell_type": "code",
   "execution_count": 35,
   "metadata": {},
   "outputs": [
    {
     "name": "stdout",
     "output_type": "stream",
     "text": [
      "Train 0.934\n",
      "Test  0.948\n"
     ]
    }
   ],
   "source": [
    "print(\"Train\", session.run(accuracy, feed_dict={x: mnist.train.images[:1000], y: mnist.train.labels[:1000]}))\n",
    "print(\"Test \", session.run(accuracy, feed_dict={x: mnist.test.images, y: mnist.test.labels}))"
   ]
  },
  {
   "cell_type": "markdown",
   "metadata": {
    "slideshow": {
     "slide_type": "subslide"
    }
   },
   "source": [
    "## `Tensorboard`\n",
    "\n",
    "  - browser-based application\n",
    "  - visualizes the `tf.Summary` objects sampled during the training\n",
    "  - inspect, monitor and visualize the learning process of a neural network\n",
    "\n",
    "\n",
    "<div class=\"alert alert-block alert-info\">\n",
    "<h3>Exercise</h3>\n",
    "You can now start tensorboard and inspect your training by executing the following command in `bash` <br>\n",
    "<pre> tensorboard --logdir=\".\" </pre>\n",
    "\n",
    "Afterwards open your browser at:\n",
    "http://localhost:6006\n",
    "</div>\n",
    "\n",
    "<div class=\"alert alert-block alert-info\">\n",
    "<h3>Exercise</h3>\n",
    "In addition to the current summaries: visualize the loss function (scalar) and the distribution of the weights (histogram) in tensorboard.\n",
    "</div>"
   ]
  },
  {
   "cell_type": "markdown",
   "metadata": {
    "slideshow": {
     "slide_type": "slide"
    }
   },
   "source": [
    "# High Level Interface - Estimators\n",
    "\n",
    "Tensorflow is not as easy to use as:\n",
    "  - sklearn\n",
    "  - keras\n",
    "  - ...\n",
    "\n",
    "The High-Level Tensorflow API was recently introduced to simplify using tensorflow."
   ]
  },
  {
   "cell_type": "markdown",
   "metadata": {
    "slideshow": {
     "slide_type": "subslide"
    }
   },
   "source": [
    "It provides an sklearn-like estimator interface, which encapsulates the following actions:\n",
    "  - training\n",
    "  - evaluation\n",
    "  - prediction\n",
    "  - export for serving\n",
    "    \n",
    "It tries to hide tensoflow-details:\n",
    "  - no need to open a session\n",
    "  - no explicit training loop"
   ]
  },
  {
   "cell_type": "markdown",
   "metadata": {
    "slideshow": {
     "slide_type": "subslide"
    }
   },
   "source": [
    "## Estimator-Interface vs. Keras\n",
    "\n",
    "Clearly the estimator interface is aimed to be an alternative to Keras, which is the high-level interface most people use.\n",
    "\n",
    "**Personal Opinion**: The estimator interface is still very confusing, hence we will look into **Keras** for the second part of this workshop!"
   ]
  },
  {
   "cell_type": "markdown",
   "metadata": {
    "slideshow": {
     "slide_type": "skip"
    }
   },
   "source": [
    "In the following I implemented our above code using the estimator-interface of tensorflow.\n",
    "Hence, you can form your own opinion.\n",
    "\n",
    "The rest of this notebook is **NOT** part of the workshop and is **not part of the exam**.\n",
    "\n",
    "The basic idea is to have one model-function defines the prediction, training and validation operations."
   ]
  },
  {
   "cell_type": "code",
   "execution_count": 27,
   "metadata": {
    "slideshow": {
     "slide_type": "skip"
    }
   },
   "outputs": [],
   "source": [
    "def model(features, labels, mode):\n",
    "    # Our model (same architecture as above)\n",
    "    image = tf.reshape(features[\"x\"], [-1, 28, 28, 1])\n",
    "    conv = tf.layers.conv2d(image, filters=32, kernel_size=[5, 5], padding=\"same\", activation=tf.nn.relu)\n",
    "    pool = tf.layers.max_pooling2d(conv, pool_size=[2, 2], strides=2)\n",
    "    flat = tf.layers.flatten(pool)\n",
    "    logits = tf.layers.dense(flat, units=10)\n",
    "    \n",
    "    # The predicted class is the position of the maximum output.\n",
    "    # The probabilities are calculated using softmax\n",
    "    predictions = {\n",
    "        \"classes\": tf.argmax(input=logits, axis=1),\n",
    "        \"probabilities\": tf.nn.softmax(logits, name=\"softmax_tensor\")\n",
    "    }\n",
    "    if mode == tf.estimator.ModeKeys.PREDICT:\n",
    "        return tf.estimator.EstimatorSpec(mode=mode, predictions=predictions)\n",
    "\n",
    "    # The loss is still based on cross-entropy as above\n",
    "    loss = tf.losses.softmax_cross_entropy(labels, logits=logits)\n",
    "    # And we still use the usual Stochastic Gradient Descent optimizer\n",
    "    if mode == tf.estimator.ModeKeys.TRAIN:\n",
    "        minimize = tf.train.GradientDescentOptimizer(0.5).minimize(loss, global_step=tf.train.get_global_step())\n",
    "        return tf.estimator.EstimatorSpec(mode=mode, loss=loss, train_op=minimize)\n",
    "\n",
    "    # Our evaluation metric is the accuracy\n",
    "    eval_metric_ops = {\n",
    "          \"accuracy\": tf.metrics.accuracy(labels=tf.argmax(labels, axis=1), predictions=predictions[\"classes\"])\n",
    "    }\n",
    "    return tf.estimator.EstimatorSpec(mode=mode, loss=loss, eval_metric_ops=eval_metric_ops)"
   ]
  },
  {
   "cell_type": "markdown",
   "metadata": {
    "slideshow": {
     "slide_type": "skip"
    }
   },
   "source": [
    "Now we can define our estimator. \n",
    "The `session_config` of the `tf.estimator.RunConfig` replaces the direct usage of `tf.Session`"
   ]
  },
  {
   "cell_type": "code",
   "execution_count": 28,
   "metadata": {
    "slideshow": {
     "slide_type": "skip"
    }
   },
   "outputs": [
    {
     "name": "stdout",
     "output_type": "stream",
     "text": [
      "INFO:tensorflow:Using config: {'_master': '', '_task_type': 'worker', '_num_ps_replicas': 0, '_tf_random_seed': None, '_save_summary_steps': 100, '_cluster_spec': <tensorflow.python.training.server_lib.ClusterSpec object at 0x7f6fd08d9c88>, '_is_chief': True, '_log_step_count_steps': 100, '_keep_checkpoint_every_n_hours': 10000, '_model_dir': '/tmp/mymodel', '_service': None, '_save_checkpoints_steps': None, '_num_worker_replicas': 1, '_task_id': 0, '_save_checkpoints_secs': 600, '_keep_checkpoint_max': 5, '_session_config': }\n"
     ]
    }
   ],
   "source": [
    "classifier = tf.estimator.Estimator(\n",
    "    model_fn=model,\n",
    "    model_dir='/tmp/mymodel',\n",
    "    config=tf.estimator.RunConfig(session_config=tf.ConfigProto()),\n",
    ");"
   ]
  },
  {
   "cell_type": "markdown",
   "metadata": {
    "slideshow": {
     "slide_type": "skip"
    }
   },
   "source": [
    "We train our classifier using the `train` method.\n",
    "\n",
    "Instead of providing the training data via the `feed_dict` of the session, wen have to wrap it in an `numpy_input_fn`, which is responsible for creating our batches and shuffelong the data."
   ]
  },
  {
   "cell_type": "code",
   "execution_count": 29,
   "metadata": {
    "slideshow": {
     "slide_type": "skip"
    }
   },
   "outputs": [
    {
     "name": "stdout",
     "output_type": "stream",
     "text": [
      "INFO:tensorflow:Create CheckpointSaverHook.\n",
      "INFO:tensorflow:Saving checkpoints for 1 into /tmp/mymodel/model.ckpt.\n",
      "INFO:tensorflow:loss = 2.2913356, step = 1\n",
      "INFO:tensorflow:Saving checkpoints for 100 into /tmp/mymodel/model.ckpt.\n",
      "INFO:tensorflow:Loss for final step: 0.19980332.\n"
     ]
    },
    {
     "data": {
      "text/plain": [
       "<tensorflow.python.estimator.estimator.Estimator at 0x7f6fd08f6a58>"
      ]
     },
     "execution_count": 29,
     "metadata": {},
     "output_type": "execute_result"
    }
   ],
   "source": [
    "numpy_input_fn = tf.estimator.inputs.numpy_input_fn\n",
    "classifier.train(input_fn=numpy_input_fn({\"x\": mnist.train.images},\n",
    "                                         mnist.train.labels,\n",
    "                                         batch_size=128, num_epochs=None, shuffle=True,),\n",
    "                 steps=100)"
   ]
  },
  {
   "cell_type": "markdown",
   "metadata": {
    "slideshow": {
     "slide_type": "skip"
    }
   },
   "source": [
    "After the training we can evaluate the performance of our classifier on the test dataset using the `evaluate` method."
   ]
  },
  {
   "cell_type": "code",
   "execution_count": 30,
   "metadata": {
    "slideshow": {
     "slide_type": "skip"
    }
   },
   "outputs": [
    {
     "name": "stdout",
     "output_type": "stream",
     "text": [
      "INFO:tensorflow:Starting evaluation at 2018-03-29-13:55:19\n",
      "INFO:tensorflow:Restoring parameters from /tmp/mymodel/model.ckpt-100\n",
      "INFO:tensorflow:Finished evaluation at 2018-03-29-13:55:25\n",
      "INFO:tensorflow:Saving dict for global step 100: accuracy = 0.9403, global_step = 100, loss = 0.20117736\n",
      "------------------------------\n",
      "Results out-of-sample\n",
      "accuracy: 0.9403\n",
      "global_step: 100\n",
      "loss: 0.20117736\n"
     ]
    }
   ],
   "source": [
    "results = classifier.evaluate(input_fn=numpy_input_fn({\"x\": mnist.test.images}, mnist.test.labels, shuffle=False))\n",
    "print('-' * 30)\n",
    "print('Results out-of-sample')\n",
    "for key in sorted(results):\n",
    "    print('%s: %s' % (key, results[key]))"
   ]
  }
 ],
 "metadata": {
  "celltoolbar": "Slideshow",
  "kernelspec": {
   "display_name": "Python 3 (ipykernel)",
   "language": "python",
   "name": "python3"
  },
  "language_info": {
   "codemirror_mode": {
    "name": "ipython",
    "version": 3
   },
   "file_extension": ".py",
   "mimetype": "text/x-python",
   "name": "python",
   "nbconvert_exporter": "python",
   "pygments_lexer": "ipython3",
   "version": "3.11.0"
  }
 },
 "nbformat": 4,
 "nbformat_minor": 2
}
