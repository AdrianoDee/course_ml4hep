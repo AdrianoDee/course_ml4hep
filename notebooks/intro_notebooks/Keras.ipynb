{
 "cells": [
  {
   "cell_type": "markdown",
   "metadata": {
    "slideshow": {
     "slide_type": "slide"
    }
   },
   "source": [
    "<div style=\"position:relative;\">\n",
    "<img src=images/keras.png style=\"width: 60px; float: left\" />\n",
    "</div>\n",
    "<div style=\"position:relative;\">\n",
    "<img src=images/keras.png style=\"width: 60px; float: right\" />\n",
    "</div>\n",
    "\n",
    "# &nbsp;&nbsp;&nbsp;&nbsp;&nbsp;&nbsp;&nbsp;&nbsp;&nbsp;&nbsp;&nbsp;&nbsp; Keras\n",
    "\n",
    "\n",
    "**Design Goals:**\n",
    "  - User friendliness\n",
    "  - Modularity\n",
    "  - Easy extensibility\n",
    "  - Work with Python"
   ]
  },
  {
   "cell_type": "markdown",
   "metadata": {
    "slideshow": {
     "slide_type": "skip"
    }
   },
   "source": [
    "Keras is a high-level neural networks API, written in Python and capable of running on top of **TensorFlow**, **CNTK**, or **Theano**. It was developed with a focus on enabling fast experimentation. \n",
    "Allows for easy and fast prototyping (through user friendliness, modularity, and extensibility).\n",
    "Supports both convolutional networks and recurrent networks, as well as combinations of the two.\n",
    "Runs seamlessly on CPU and GPU."
   ]
  },
  {
   "cell_type": "markdown",
   "metadata": {
    "slideshow": {
     "slide_type": "slide"
    }
   },
   "source": [
    "# MNIST\n",
    "\n",
    "The MNIST database (Modified National Institute of Standards and Technology database) is a **dataset**\n",
    "  - 28x28 images showing handwritten digits\n",
    "  - 55K training, 5K validation and 10K test samples\n",
    "  - multi-class classification task"
   ]
  },
  {
   "cell_type": "markdown",
   "metadata": {
    "slideshow": {
     "slide_type": "skip"
    }
   },
   "source": [
    "The MNIST dataset is the **hello world** task of (image-based) machine learning.\n",
    "Throughout this tutorial we will stick to the MNIST dataset to keep things as simple as possible.\n",
    "But of course you can later apply your new knowledge to something completely different (e.g. astro-particle physics)\n",
    "\n",
    "Each image is represented by a 784-dimensional vector, and its label is represented by a 10-dimensional one-hot encoded vector. So, for instance the digit 3 would have the label (0,0,1,0,0,0,0,0,0,0)"
   ]
  },
  {
   "cell_type": "code",
   "execution_count": 1,
   "metadata": {},
   "outputs": [
    {
     "name": "stderr",
     "output_type": "stream",
     "text": [
      "/home/thomas/venv/lib/python3.5/site-packages/h5py/__init__.py:36: FutureWarning: Conversion of the second argument of issubdtype from `float` to `np.floating` is deprecated. In future, it will be treated as `np.float64 == np.dtype(float).type`.\n",
      "  from ._conv import register_converters as _register_converters\n"
     ]
    },
    {
     "name": "stdout",
     "output_type": "stream",
     "text": [
      "Extracting MNIST_data/train-images-idx3-ubyte.gz\n",
      "Extracting MNIST_data/train-labels-idx1-ubyte.gz\n",
      "Extracting MNIST_data/t10k-images-idx3-ubyte.gz\n",
      "Extracting MNIST_data/t10k-labels-idx1-ubyte.gz\n"
     ]
    }
   ],
   "source": [
    "import tensorflow as tf\n",
    "from tensorflow.examples.tutorials.mnist import input_data\n",
    "mnist = input_data.read_data_sets(\"MNIST_data/\")"
   ]
  },
  {
   "cell_type": "markdown",
   "metadata": {
    "slideshow": {
     "slide_type": "skip"
    }
   },
   "source": [
    "It is always a good idea to first visualize some training samples, to get to know the data."
   ]
  },
  {
   "cell_type": "code",
   "execution_count": 2,
   "metadata": {
    "slideshow": {
     "slide_type": "subslide"
    }
   },
   "outputs": [
    {
     "data": {
      "image/png": "[encoded data removed]",
      "text/plain": [
       "<matplotlib.figure.Figure at 0x7f90dced7d68>"
      ]
     },
     "metadata": {},
     "output_type": "display_data"
    }
   ],
   "source": [
    "%matplotlib inline\n",
    "import matplotlib.pyplot as plt\n",
    "fig, axes = plt.subplots(2, 4)\n",
    "for i, ax in enumerate(axes.flat):\n",
    "    ax.set_title(mnist.train.labels[i])\n",
    "    ax.imshow(mnist.train.images[i].reshape(28,28), cmap=plt.cm.Greys)\n",
    "    ax.axis('off')"
   ]
  },
  {
   "cell_type": "markdown",
   "metadata": {
    "slideshow": {
     "slide_type": "slide"
    }
   },
   "source": [
    "## tf.keras\n",
    "\n",
    "Tensorflow officially supports the **keras** API"
   ]
  },
  {
   "cell_type": "markdown",
   "metadata": {
    "slideshow": {
     "slide_type": "subslide"
    }
   },
   "source": [
    "### Model "
   ]
  },
  {
   "cell_type": "markdown",
   "metadata": {
    "slideshow": {
     "slide_type": "skip"
    }
   },
   "source": [
    "In Keras you define your neural network as a **sequence of layers**.\n",
    "\n",
    "Below you see a simple model using one convolutional layer, max-pooling followed by a single dense layer which directly provides the output using a softmax activation function. This is the same model as we wrote at the end of the Tensorflow notebook."
   ]
  },
  {
   "cell_type": "code",
   "execution_count": 3,
   "metadata": {
    "slideshow": {
     "slide_type": "-"
    }
   },
   "outputs": [],
   "source": [
    "model = tf.keras.Sequential()\n",
    "model.add(tf.keras.layers.Reshape((28, 28, 1), input_shape=[28*28]))\n",
    "model.add(tf.keras.layers.Conv2D(32, kernel_size=(5, 5), strides=(1,1),\n",
    "                                 padding=\"same\", activation='relu'))\n",
    "model.add(tf.keras.layers.MaxPooling2D(pool_size=(2, 2), strides=(2,2)))\n",
    "model.add(tf.keras.layers.Flatten())\n",
    "model.add(tf.keras.layers.Dense(10, activation='softmax'))"
   ]
  },
  {
   "cell_type": "markdown",
   "metadata": {
    "slideshow": {
     "slide_type": "skip"
    }
   },
   "source": [
    "A very useful feature is the `summary` method of the model.\n",
    "It directly tells you the shape of the `tf.Tensor`s after each layer and the number of associated parameters in each layer.\n",
    "\n",
    "As you can see by far the most parameters are in the final dense layer. In image recognition this is often the case, and the reason why you may want to consider using a global-pooling layer instead of just a simple 2 by 2 pooling (see DeepLearning lecture)"
   ]
  },
  {
   "cell_type": "code",
   "execution_count": 4,
   "metadata": {},
   "outputs": [
    {
     "name": "stdout",
     "output_type": "stream",
     "text": [
      "_________________________________________________________________\n",
      "Layer (type)                 Output Shape              Param #   \n",
      "=================================================================\n",
      "reshape_1 (Reshape)          (None, 28, 28, 1)         0         \n",
      "_________________________________________________________________\n",
      "conv2d_1 (Conv2D)            (None, 28, 28, 32)        832       \n",
      "_________________________________________________________________\n",
      "max_pooling2d_1 (MaxPooling2 (None, 14, 14, 32)        0         \n",
      "_________________________________________________________________\n",
      "flatten_1 (Flatten)          (None, 6272)              0         \n",
      "_________________________________________________________________\n",
      "dense_1 (Dense)              (None, 10)                62730     \n",
      "=================================================================\n",
      "Total params: 63,562\n",
      "Trainable params: 63,562\n",
      "Non-trainable params: 0\n",
      "_________________________________________________________________\n"
     ]
    }
   ],
   "source": [
    "model.summary()"
   ]
  },
  {
   "cell_type": "markdown",
   "metadata": {
    "slideshow": {
     "slide_type": "subslide"
    }
   },
   "source": [
    "### Compile"
   ]
  },
  {
   "cell_type": "markdown",
   "metadata": {
    "slideshow": {
     "slide_type": "skip"
    }
   },
   "source": [
    "Before you can train a model you have to compile it.\n",
    "Internally this takes care of the underlying `tf.Graph` and `tf.Session` objects.\n",
    "\n",
    "We are using the cross-entropy loss function, which is the appropriate loss for a multi-class classification task.\n",
    "\n",
    "Also we use the basic stochastic gradient descent, we will investigate the usage of more advanced optimizers later.\n",
    "\n",
    "Finally we want to use the accuracy as a metric to evaluate the performance of our model."
   ]
  },
  {
   "cell_type": "code",
   "execution_count": 5,
   "metadata": {},
   "outputs": [
    {
     "name": "stdout",
     "output_type": "stream",
     "text": [
      "WARNING:tensorflow:From /home/thomas/venv/lib/python3.5/site-packages/tensorflow/python/keras/_impl/keras/backend.py:3086: calling reduce_sum (from tensorflow.python.ops.math_ops) with keep_dims is deprecated and will be removed in a future version.\n",
      "Instructions for updating:\n",
      "keep_dims is deprecated, use keepdims instead\n",
      "WARNING:tensorflow:From /home/thomas/venv/lib/python3.5/site-packages/tensorflow/python/keras/_impl/keras/backend.py:1557: calling reduce_mean (from tensorflow.python.ops.math_ops) with keep_dims is deprecated and will be removed in a future version.\n",
      "Instructions for updating:\n",
      "keep_dims is deprecated, use keepdims instead\n"
     ]
    }
   ],
   "source": [
    "model.compile(loss=tf.keras.losses.categorical_crossentropy,\n",
    "              optimizer=tf.keras.optimizers.SGD(lr=0.5),\n",
    "              metrics=['accuracy'])"
   ]
  },
  {
   "cell_type": "markdown",
   "metadata": {
    "slideshow": {
     "slide_type": "subslide"
    }
   },
   "source": [
    "### Fitting"
   ]
  },
  {
   "cell_type": "code",
   "execution_count": 6,
   "metadata": {
    "slideshow": {
     "slide_type": "skip"
    }
   },
   "outputs": [],
   "source": [
    "### This is just some visualization code, you can ignore this cell\n",
    "\n",
    "from IPython.display import clear_output\n",
    "\n",
    "class PlotLosses(tf.keras.callbacks.Callback):\n",
    "    def __init__(self, n_epochs):\n",
    "        self.n_epochs = n_epochs\n",
    "\n",
    "    def on_train_begin(self, logs={}):\n",
    "        self.i = 0\n",
    "        self.x = []\n",
    "        self.losses = []\n",
    "        self.val_losses = []\n",
    "        self.fig = plt.figure()\n",
    "        self.logs = []\n",
    "\n",
    "    def on_epoch_end(self, epoch, logs={}):\n",
    "        self.logs.append(logs)\n",
    "        self.x.append(self.i)\n",
    "        self.losses.append(logs.get('acc'))\n",
    "        self.val_losses.append(logs.get('val_acc'))\n",
    "        self.i += 1\n",
    "        \n",
    "        clear_output(wait=True)\n",
    "        plt.plot(self.x, self.losses, label=\"acc\")\n",
    "        plt.plot(self.x, self.val_losses, label=\"val_acc\")\n",
    "        plt.ylim(0.8, 1.0)\n",
    "        plt.xlim(0, self.n_epochs)\n",
    "        plt.legend(loc=2)\n",
    "        plt.show();"
   ]
  },
  {
   "cell_type": "markdown",
   "metadata": {
    "slideshow": {
     "slide_type": "skip"
    }
   },
   "source": [
    "We fit our model using our training data.\n",
    "  - The first arguments are the features (in this case the images)\n",
    "  - The second argument are the labels (the utility function to_categorical performs a one-hot encoding of the labels)\n",
    "  - Further arguments define the batch-size, the number of epochs (how often we cycle through the training data)\n",
    "  - The callback argument can be used to call custom functions during the training, here we use it to plot the training progress\n",
    "  - The validation_data argument provides an additional validation data set, which can be used to monitor the training progress on an independent dataset.\n",
    "  \n",
    "Depending on you computer you can change the number of training events you use.\n",
    "There are 55K training events, and usually you want to use all of them. But for the workshop you may want to use just a few thousands. You don't want to waste our valuable time waiting an hour for the training to finish!"
   ]
  },
  {
   "cell_type": "code",
   "execution_count": 7,
   "metadata": {},
   "outputs": [
    {
     "data": {
      "image/png": "[encoded data removed]",
      "text/plain": [
       "<matplotlib.figure.Figure at 0x7f5b57c97b38>"
      ]
     },
     "metadata": {},
     "output_type": "display_data"
    },
    {
     "data": {
      "text/plain": [
       "<tensorflow.python.keras._impl.keras.callbacks.History at 0x7f5b5be59978>"
      ]
     },
     "execution_count": 7,
     "metadata": {},
     "output_type": "execute_result"
    }
   ],
   "source": [
    "nevents = 5000\n",
    "model.fit(mnist.train.images[:nevents],\n",
    "          tf.keras.utils.to_categorical(mnist.train.labels[:nevents], 10),\n",
    "          batch_size=256, epochs=10, callbacks=[PlotLosses(10)], verbose=0,\n",
    "          validation_data=(mnist.validation.images, \n",
    "                           tf.keras.utils.to_categorical(mnist.validation.labels, 10)))"
   ]
  },
  {
   "cell_type": "markdown",
   "metadata": {
    "slideshow": {
     "slide_type": "subslide"
    }
   },
   "source": [
    "### Evaluation"
   ]
  },
  {
   "cell_type": "markdown",
   "metadata": {
    "slideshow": {
     "slide_type": "skip"
    }
   },
   "source": [
    "Now the most important step. The evaluation. As we heard in the lecture **always test your model on an independent test dataset in the end!** We will follow this advice here.\n",
    "\n",
    "Our model yields a good performance (>96% accuracy) on the independent test dataset."
   ]
  },
  {
   "cell_type": "code",
   "execution_count": 8,
   "metadata": {},
   "outputs": [
    {
     "data": {
      "text/plain": [
       "[0.1268268010802567, 0.9606]"
      ]
     },
     "execution_count": 8,
     "metadata": {},
     "output_type": "execute_result"
    }
   ],
   "source": [
    "model.evaluate(mnist.test.images, tf.keras.utils.to_categorical(mnist.test.labels, 10), verbose=0)"
   ]
  },
  {
   "cell_type": "markdown",
   "metadata": {
    "slideshow": {
     "slide_type": "subslide"
    }
   },
   "source": [
    "### Prediction"
   ]
  },
  {
   "cell_type": "markdown",
   "metadata": {
    "slideshow": {
     "slide_type": "skip"
    }
   },
   "source": [
    "Finally we want to use our model to do a prediction; here we just predict the first 8 elements."
   ]
  },
  {
   "cell_type": "code",
   "execution_count": 9,
   "metadata": {},
   "outputs": [
    {
     "data": {
      "image/png": "[encoded data removed]",
      "text/plain": [
       "<matplotlib.figure.Figure at 0x7f5b57ca6940>"
      ]
     },
     "metadata": {},
     "output_type": "display_data"
    }
   ],
   "source": [
    "prediction = model.predict(mnist.test.images[:8])\n",
    "\n",
    "fig, axes = plt.subplots(2, 4)\n",
    "for i, ax in enumerate(axes.flat):\n",
    "    ax.set_title(\"T: {}; P: {}\".format(mnist.test.labels[i], prediction[i].argmax()))\n",
    "    ax.imshow(mnist.test.images[i].reshape(28,28), cmap=plt.cm.Greys)\n",
    "    ax.axis('off')"
   ]
  },
  {
   "cell_type": "markdown",
   "metadata": {
    "slideshow": {
     "slide_type": "subslide"
    }
   },
   "source": [
    "<div class=\"alert alert-block alert-info\">\n",
    "<h3>Exercise</h3>\n",
    "\n",
    "Add regularization to the network by adding\n",
    "\n",
    "<pre> kernel_regularizer=tf.keras.regularizers.l2(0.001), </pre>\n",
    "\n",
    "as a parameter to the individual layers.\n",
    "</div>"
   ]
  },
  {
   "cell_type": "markdown",
   "metadata": {},
   "source": [
    "<div class=\"alert alert-block alert-info\">\n",
    "<h3>Exercise</h3>\n",
    "\n",
    "Increase the depth of the above model by adding more convolution and pooling layers.<br>\n",
    "How deep can you go before the training gets unstable.?\n",
    "</div>"
   ]
  },
  {
   "cell_type": "markdown",
   "metadata": {
    "slideshow": {
     "slide_type": "slide"
    }
   },
   "source": [
    "# Gaining Depth\n",
    "\n",
    "In the lecture we discussed the **Vanishing Gradient Problem** and some techniques so avoid it.\n",
    "  - **ReLU activation** \n",
    "  - **he initialization**\n",
    "  - **batch normalization**"
   ]
  },
  {
   "cell_type": "markdown",
   "metadata": {
    "slideshow": {
     "slide_type": "skip"
    }
   },
   "source": [
    "### Initialization\n",
    "\n",
    "Setting the initialization in keras is easy, as in tensorflow most layers have a `kernel_initializer` parameter. As an argument to this parameter you can provide an initializer from the `tf.keras.initializer` module.\n",
    "> kernel_initializer=tf.keras.initializers.he_normal()"
   ]
  },
  {
   "cell_type": "markdown",
   "metadata": {
    "slideshow": {
     "slide_type": "skip"
    }
   },
   "source": [
    "### Batch normalization\n",
    "\n",
    "Using Batch Normalization has a few pitfalls you have to know about.\n",
    "\n",
    "Batch Normalization should be applied **before** the activation function. Hence you have to remove the `activation` parameter of the previous layer and instead apply the activation function by hand after adding the Batch Normalization layer. Also you can remove the bias from the previous layer (the bias will just be removed by the normalization step!).\n",
    "\n",
    "> model.add(tf.keras.layers.Conv2D(..., use_bias=False))\n",
    "\n",
    "> model.add(tf.keras.layers.BatchNormalization())\n",
    "\n",
    "> model.add(tf.keras.layers.Activation('relu'))"
   ]
  },
  {
   "cell_type": "markdown",
   "metadata": {
    "slideshow": {
     "slide_type": "skip"
    }
   },
   "source": [
    "### Global Average Pooling\n",
    "\n",
    "In order to reduce the number of parameter of our model, we perform a **global average pooling** after the convolution layers and before the dense layers.\n",
    "Remember that the most parameters of the model are usually contained in the dense layer."
   ]
  },
  {
   "cell_type": "code",
   "execution_count": 10,
   "metadata": {
    "slideshow": {
     "slide_type": "subslide"
    }
   },
   "outputs": [
    {
     "name": "stdout",
     "output_type": "stream",
     "text": [
      "_________________________________________________________________\n",
      "Layer (type)                 Output Shape              Param #   \n",
      "=================================================================\n",
      "reshape_2 (Reshape)          (None, 28, 28, 1)         0         \n",
      "_________________________________________________________________\n",
      "conv2d_2 (Conv2D)            (None, 28, 28, 16)        144       \n",
      "_________________________________________________________________\n",
      "batch_normalization_1 (Batch (None, 28, 28, 16)        64        \n",
      "_________________________________________________________________\n",
      "activation_1 (Activation)    (None, 28, 28, 16)        0         \n",
      "_________________________________________________________________\n",
      "conv2d_3 (Conv2D)            (None, 28, 28, 32)        4608      \n",
      "_________________________________________________________________\n",
      "batch_normalization_2 (Batch (None, 28, 28, 32)        128       \n",
      "_________________________________________________________________\n",
      "activation_2 (Activation)    (None, 28, 28, 32)        0         \n",
      "_________________________________________________________________\n",
      "conv2d_4 (Conv2D)            (None, 28, 28, 48)        13824     \n",
      "_________________________________________________________________\n",
      "batch_normalization_3 (Batch (None, 28, 28, 48)        192       \n",
      "_________________________________________________________________\n",
      "activation_3 (Activation)    (None, 28, 28, 48)        0         \n",
      "_________________________________________________________________\n",
      "global_average_pooling2d_1 ( (None, 48)                0         \n",
      "_________________________________________________________________\n",
      "dense_2 (Dense)              (None, 64)                3136      \n",
      "_________________________________________________________________\n",
      "batch_normalization_4 (Batch (None, 64)                256       \n",
      "_________________________________________________________________\n",
      "activation_4 (Activation)    (None, 64)                0         \n",
      "_________________________________________________________________\n",
      "dense_3 (Dense)              (None, 10)                650       \n",
      "=================================================================\n",
      "Total params: 23,002\n",
      "Trainable params: 22,682\n",
      "Non-trainable params: 320\n",
      "_________________________________________________________________\n",
      "None\n"
     ]
    }
   ],
   "source": [
    "model = tf.keras.Sequential()\n",
    "model.add(tf.keras.layers.Reshape((28, 28, 1), input_shape=[28*28]))\n",
    "\n",
    "for i in range(1, 4):\n",
    "    model.add(tf.keras.layers.Conv2D(16*i, kernel_size=(3, 3), strides=(1,1),\n",
    "                                     kernel_initializer=tf.keras.initializers.he_normal(),\n",
    "                                     padding=\"same\", use_bias=False))\n",
    "    model.add(tf.keras.layers.BatchNormalization())\n",
    "    model.add(tf.keras.layers.Activation('relu'))\n",
    "\n",
    "model.add(tf.keras.layers.GlobalAveragePooling2D())\n",
    "model.add(tf.keras.layers.Dense(64, kernel_initializer=tf.keras.initializers.he_normal()))\n",
    "model.add(tf.keras.layers.BatchNormalization())\n",
    "model.add(tf.keras.layers.Activation('relu'))\n",
    "model.add(tf.keras.layers.Dense(10, kernel_initializer=tf.keras.initializers.he_normal(), \n",
    "                                activation='softmax'))\n",
    "print(model.summary())"
   ]
  },
  {
   "cell_type": "markdown",
   "metadata": {
    "slideshow": {
     "slide_type": "skip"
    }
   },
   "source": [
    "Our model got a more complex. However, the model does contain fewer paramters (about a third!) in comparison to our previous model!"
   ]
  },
  {
   "cell_type": "code",
   "execution_count": 11,
   "metadata": {
    "slideshow": {
     "slide_type": "skip"
    }
   },
   "outputs": [],
   "source": [
    "model.compile(loss=tf.keras.losses.categorical_crossentropy,\n",
    "              optimizer=tf.keras.optimizers.SGD(lr=0.5),\n",
    "              metrics=['accuracy'])"
   ]
  },
  {
   "cell_type": "markdown",
   "metadata": {
    "slideshow": {
     "slide_type": "subslide"
    }
   },
   "source": [
    "### Callbacks\n",
    "\n",
    "Callbacks are used in keras to perform specific actions after every batch or after each epoch. Previously we used a callback to update our accuracy plot during the training, now we add two more callbacks:\n",
    "  - `tf.keras.callbacks.EarlyStopping` will automatically stop the training if the accuracy on the validation sample does no longer increase\n",
    "  - `tf.keras.callbacks.ModelCheckpoint` will save the best model automatically\n",
    "  \n",
    "The **early stopping** provides a cheap and easy way to regularize our model."
   ]
  },
  {
   "cell_type": "code",
   "execution_count": 12,
   "metadata": {},
   "outputs": [],
   "source": [
    "callbacks = [tf.keras.callbacks.EarlyStopping(monitor='val_acc', patience=10, mode='max', verbose=1),\n",
    "             tf.keras.callbacks.ModelCheckpoint('checkpoints', monitor='val_acc', save_best_only=True, mode='max', verbose=1),\n",
    "             PlotLosses(10)]"
   ]
  },
  {
   "cell_type": "markdown",
   "metadata": {
    "slideshow": {
     "slide_type": "subslide"
    }
   },
   "source": [
    "### Fitting"
   ]
  },
  {
   "cell_type": "code",
   "execution_count": 14,
   "metadata": {
    "slideshow": {
     "slide_type": "-"
    }
   },
   "outputs": [
    {
     "data": {
      "image/png": "[encoded data removed]",
      "text/plain": [
       "<matplotlib.figure.Figure at 0x7f5b4e8b0908>"
      ]
     },
     "metadata": {},
     "output_type": "display_data"
    },
    {
     "data": {
      "text/plain": [
       "[0.7459862817764282, 0.727]"
      ]
     },
     "execution_count": 14,
     "metadata": {},
     "output_type": "execute_result"
    }
   ],
   "source": [
    "model.fit(mnist.train.images[:nevents],\n",
    "          tf.keras.utils.to_categorical(mnist.train.labels[:nevents], 10),\n",
    "          batch_size=256, epochs=10, callbacks=callbacks, verbose=0,\n",
    "          validation_data=(mnist.validation.images, \n",
    "                           tf.keras.utils.to_categorical(mnist.validation.labels, 10)))"
   ]
  },
  {
   "cell_type": "markdown",
   "metadata": {
    "slideshow": {
     "slide_type": "subslide"
    }
   },
   "source": [
    "### Evaluation"
   ]
  },
  {
   "cell_type": "code",
   "execution_count": 16,
   "metadata": {},
   "outputs": [
    {
     "data": {
      "text/plain": [
       "[0.7459862817764282, 0.727]"
      ]
     },
     "execution_count": 16,
     "metadata": {},
     "output_type": "execute_result"
    }
   ],
   "source": [
    "model.evaluate(mnist.test.images, tf.keras.utils.to_categorical(mnist.test.labels, 10), verbose=0)"
   ]
  },
  {
   "cell_type": "markdown",
   "metadata": {
    "slideshow": {
     "slide_type": "subslide"
    }
   },
   "source": [
    "<div class=\"alert alert-block alert-info\">\n",
    "<h3>Exercise</h3>\n",
    "Modify the above model and observe how the number of parameters change.\n",
    "<ul>\n",
    "    <li>How many parameters are associated with a convolutional layer (as a function of kernel size, stride, and feature maps)</li>\n",
    "    <li>How many parameters are associated with a dense layer (as a function of input and output layers)</li>\n",
    "    <li>How many parameters are associated with the batch normalization layer</li>\n",
    "    <li>How many parameters are associated with the pooling layer</li>\n",
    "</ul>\n",
    "</div>"
   ]
  },
  {
   "cell_type": "markdown",
   "metadata": {},
   "source": [
    "<div class=\"alert alert-block alert-info\">\n",
    "<h3>Exercise</h3>\n",
    "Use a different optimizer to train the model. For instance\n",
    "\n",
    "<pre> optimizer=tf.keras.optimizers.Adam(), </pre>\n",
    "\n",
    "</div>"
   ]
  },
  {
   "cell_type": "markdown",
   "metadata": {
    "slideshow": {
     "slide_type": "slide"
    }
   },
   "source": [
    "# Recurrent Neural Network"
   ]
  },
  {
   "cell_type": "markdown",
   "metadata": {
    "slideshow": {
     "slide_type": "subslide"
    }
   },
   "source": [
    "## Text-Corpus"
   ]
  },
  {
   "cell_type": "markdown",
   "metadata": {
    "slideshow": {
     "slide_type": "skip"
    }
   },
   "source": [
    "As text-corpus we take the wikipedia article of France. But you can use anything you want:\n",
    "  - twitter messages\n",
    "  - books (project gutenberg)\n",
    "  - newspaper articles\n",
    "  \n",
    "You may need to install the `wikipedia` package using pip3"
   ]
  },
  {
   "cell_type": "code",
   "execution_count": 3,
   "metadata": {},
   "outputs": [
    {
     "data": {
      "text/plain": [
       "(128089,\n",
       " b'France (French: [fs]), officially the French Republic (French: Republique francaise [epyblik fsz]), ')"
      ]
     },
     "execution_count": 3,
     "metadata": {},
     "output_type": "execute_result"
    }
   ],
   "source": [
    "import wikipedia\n",
    "import unicodedata\n",
    "text = wikipedia.page('France').content\n",
    "text = unicodedata.normalize('NFKD', text).encode('ascii','ignore')\n",
    "len(text), text[:100]"
   ]
  },
  {
   "cell_type": "markdown",
   "metadata": {
    "slideshow": {
     "slide_type": "skip"
    }
   },
   "source": [
    "So far, we extensively studied image recognition. However, neural networks have a much broader spectrum of application.\n",
    "Next, we will focus on building a simple character-based text-generation model."
   ]
  },
  {
   "cell_type": "markdown",
   "metadata": {
    "slideshow": {
     "slide_type": "subslide"
    }
   },
   "source": [
    "### One-Hot Encoding"
   ]
  },
  {
   "cell_type": "markdown",
   "metadata": {
    "slideshow": {
     "slide_type": "skip"
    }
   },
   "source": [
    "As explained in the lecture we can convert text into a suitable format for neural networks by mapping each character in the text to a number (here we use ascii encoding) and afterwards use `tf.keras.utils.to_categorical` to create a one-hot encoding"
   ]
  },
  {
   "cell_type": "code",
   "execution_count": 4,
   "metadata": {},
   "outputs": [],
   "source": [
    "import numpy as np\n",
    "def one_hot_encoding(binary_text):\n",
    "    mapping = np.fromiter(binary_text, dtype=np.int8)\n",
    "    return tf.keras.utils.to_categorical(mapping, 128)\n",
    "\n",
    "one_hot_encoded_text = one_hot_encoding(text)"
   ]
  },
  {
   "cell_type": "markdown",
   "metadata": {
    "slideshow": {
     "slide_type": "subslide"
    }
   },
   "source": [
    "### Training Dataset"
   ]
  },
  {
   "cell_type": "markdown",
   "metadata": {
    "slideshow": {
     "slide_type": "skip"
    }
   },
   "source": [
    "We split our text-corpus in pieces of 30 characters, our target will be the 31th character.\n",
    "\n",
    "Like we did previously for the images we choose only a subset of the complete training dataset, depending on your machine you can change this value."
   ]
  },
  {
   "cell_type": "code",
   "execution_count": 39,
   "metadata": {},
   "outputs": [],
   "source": [
    "nevents = 30000\n",
    "train_x = []\n",
    "train_y = []\n",
    "for i in range(30, len(one_hot_encoded_text)-31):\n",
    "    train_x.append(one_hot_encoded_text[i:i+30])\n",
    "    train_y.append(one_hot_encoded_text[i+31])\n",
    "train_x = np.array(train_x[:nevents])\n",
    "train_y = np.array(train_y[:nevents])"
   ]
  },
  {
   "cell_type": "markdown",
   "metadata": {
    "slideshow": {
     "slide_type": "subslide"
    }
   },
   "source": [
    "### LSTM Model"
   ]
  },
  {
   "cell_type": "markdown",
   "metadata": {
    "slideshow": {
     "slide_type": "skip"
    }
   },
   "source": [
    "We use long short-term memory cells as the basic building block of our recurrent network.\n",
    "\n",
    "The input shape is 30 (because we input 30 characters) x 128 (because the one-hot encoding is 128 dimensional)\n",
    "\n",
    "The output are 128 probabilities, one for each possible character in the encoding."
   ]
  },
  {
   "cell_type": "code",
   "execution_count": 6,
   "metadata": {},
   "outputs": [
    {
     "name": "stdout",
     "output_type": "stream",
     "text": [
      "WARNING:tensorflow:From /home/thomas/venv/lib/python3.5/site-packages/tensorflow/python/keras/_impl/keras/backend.py:1456: calling reduce_sum (from tensorflow.python.ops.math_ops) with keep_dims is deprecated and will be removed in a future version.\n",
      "Instructions for updating:\n",
      "keep_dims is deprecated, use keepdims instead\n",
      "_________________________________________________________________\n",
      "Layer (type)                 Output Shape              Param #   \n",
      "=================================================================\n",
      "lstm_1 (LSTM)                (None, 128)               131584    \n",
      "_________________________________________________________________\n",
      "dense_1 (Dense)              (None, 128)               16512     \n",
      "=================================================================\n",
      "Total params: 148,096\n",
      "Trainable params: 148,096\n",
      "Non-trainable params: 0\n",
      "_________________________________________________________________\n",
      "None\n"
     ]
    }
   ],
   "source": [
    "model = tf.keras.Sequential()\n",
    "model.add(tf.keras.layers.LSTM(128, input_shape=(30, 128)))\n",
    "model.add(tf.keras.layers.Dense(128, activation='softmax'))\n",
    "print(model.summary())"
   ]
  },
  {
   "cell_type": "markdown",
   "metadata": {
    "slideshow": {
     "slide_type": "subslide"
    }
   },
   "source": [
    "### Compilation"
   ]
  },
  {
   "cell_type": "code",
   "execution_count": 7,
   "metadata": {},
   "outputs": [
    {
     "name": "stdout",
     "output_type": "stream",
     "text": [
      "WARNING:tensorflow:From /home/thomas/venv/lib/python3.5/site-packages/tensorflow/python/keras/_impl/keras/backend.py:1557: calling reduce_mean (from tensorflow.python.ops.math_ops) with keep_dims is deprecated and will be removed in a future version.\n",
      "Instructions for updating:\n",
      "keep_dims is deprecated, use keepdims instead\n"
     ]
    }
   ],
   "source": [
    "model.compile(loss=tf.keras.losses.categorical_crossentropy,\n",
    "              optimizer=tf.keras.optimizers.RMSprop(lr=0.01),\n",
    "              metrics=['accuracy'])"
   ]
  },
  {
   "cell_type": "markdown",
   "metadata": {
    "slideshow": {
     "slide_type": "subslide"
    }
   },
   "source": [
    "### Text Generation Callback"
   ]
  },
  {
   "cell_type": "markdown",
   "metadata": {
    "slideshow": {
     "slide_type": "skip"
    }
   },
   "source": [
    "We use a callback to sample some text from the network after each epoch.\n",
    "\n",
    "The sampling works by starting from a seed sentence, and afterwards iteratively predict the next character according to the probabilities outputted by the current model."
   ]
  },
  {
   "cell_type": "code",
   "execution_count": 37,
   "metadata": {
    "slideshow": {
     "slide_type": "-"
    }
   },
   "outputs": [],
   "source": [
    "import sys\n",
    "class TextGeneration(tf.keras.callbacks.Callback):\n",
    "    def __init__(self, temperature=1.0):\n",
    "        self.temperature = temperature\n",
    "        self.choices = list(range(128))\n",
    "        \n",
    "    def on_epoch_end(self, epoch, logs={}):\n",
    "        sentence = b'a country whose territory consists'[:30]\n",
    "        print()\n",
    "        sys.stdout.write(sentence)\n",
    "        for i in range(200):\n",
    "            preds = model.predict(np.array([one_hot_encoding(sentence)]), verbose=0)[0]\n",
    "            a = np.log(preds) / self.temperature\n",
    "            dist = np.exp(a)/np.sum(np.exp(a))\n",
    "            next_char = bytes([np.random.choice(self.choices, p=dist)])\n",
    "            sentence = sentence[1:] + next_char\n",
    "            sys.stdout.write(next_char)\n",
    "        sys.stdout.flush()\n",
    "        print()"
   ]
  },
  {
   "cell_type": "markdown",
   "metadata": {
    "slideshow": {
     "slide_type": "subslide"
    }
   },
   "source": [
    "### Fitting"
   ]
  },
  {
   "cell_type": "markdown",
   "metadata": {
    "slideshow": {
     "slide_type": "skip"
    }
   },
   "source": [
    "Finally we can start training our model end watch it learn!\n",
    "Unfortunately the training can take a long time, so maybe let this just run even after the workshop ended."
   ]
  },
  {
   "cell_type": "code",
   "execution_count": 41,
   "metadata": {},
   "outputs": [
    {
     "name": "stdout",
     "output_type": "stream",
     "text": [
      "Epoch 1/10\n",
      "29952/30000 [============================>.]29952/30000 [============================>.] - ETA: 0s - loss: 1.4385 - acc: 0.5871\n",
      "a country whose territory consiue nter rien aoot hmeu rpierwsfin nmegorgaeu eand hmtoaoshr eeyat hsaha foc 1vrs sa itani Fars r135,0,wl eih nbt o tytgseinaid o hraae.Aetrur,clnae.I o hsohdCte nrak.A rvmig o erwoe naz,igdrena nrhss\n",
      "30000/30000 [==============================]30000/30000 [==============================] - 77s 3ms/step - loss: 1.4387 - acc: 0.5871\n",
      "\n",
      "Epoch 2/10\n",
      "29952/30000 [============================>.]29952/30000 [============================>.] - ETA: 0s - loss: 1.3965 - acc: 0.5966\n",
      "a country whose territory consiassom o 7'.nI lfdrtdcepid stddee,wrhtin dcnttry etadee  o hrloe fueesios i t femalase edetanesos adt hltre teeietnualc mmeriul foe epliy nesbtocudy e adiheCuhl ernis fudFan t rscile ra nedrbria d eli\n",
      "30000/30000 [==============================]30000/30000 [==============================] - 74s 2ms/step - loss: 1.3974 - acc: 0.5962\n",
      "\n",
      "Epoch 3/10\n",
      "29952/30000 [============================>.]29952/30000 [============================>.] - ETA: 0s - loss: 1.3633 - acc: 0.6048\n",
      "a country whose territory consit foren lte 6etansd hsae fomtacam ryahs t h edtrcvdbintr.ittalin ryuseai,a nmabeslruinu adailnuie nae poel oemnveoie,dsaen,ttr it1uctd n nmeniu yrscoin ntal.Atiae' rvcin adsoiaid.\n",
      "n etlgo,ostadih 40.\n",
      "30000/30000 [==============================]30000/30000 [==============================] - 67s 2ms/step - loss: 1.3632 - acc: 0.6048\n",
      "\n",
      "Epoch 4/10\n",
      "29952/30000 [============================>.]29952/30000 [============================>.] - ETA: 0s - loss: 1.3169 - acc: 0.6164\n",
      "a country whose territory consitnu,wetoie cuhrs  uoin =\n",
      "\n",
      "h ae hreivd frmniswug eihtenugstsnpnkosansah eprvdiin prvnio oy2a o atousy o2196 sa as nmigenRmnrsie fubec aseneytapmntoal nmiles efrpidtpososcos frmairu s rsg,toe dmededyos\n",
      "30000/30000 [==============================]30000/30000 [==============================] - 74s 2ms/step - loss: 1.3173 - acc: 0.6162\n",
      "\n",
      "Epoch 5/10\n",
      "29952/30000 [============================>.]29952/30000 [============================>.] - ETA: 0s - loss: 1.2877 - acc: 0.6249\n",
      "a country whose territory consiue adenohe h trces nteslvry zn.Tebilgns nmeg rsamno feeriisduastrc) Wasws u yagin nredbr o 3i.Aws.I'anes fosih fomtac.I na o mldeeme,edt d ataosial usuhral,\n",
      "Fakigcat uatd.Ftt o Furig nmrnusftrvytin f\n",
      "30000/30000 [==============================]30000/30000 [==============================] - 76s 3ms/step - loss: 1.2881 - acc: 0.6246\n",
      "\n",
      "Epoch 6/10\n",
      "29952/30000 [============================>.]29952/30000 [============================>.] - ETA: 0s - loss: 1.2565 - acc: 0.6341\n",
      "a country whose territory consic.wid Guedd ebutey ntil ntluie nae ucenre nmegenaiid o 288 nth asevle h fieios nrakistt foloi nwhre ocuisc npliv oios iatrcetie. o aripia cis rcmnin ntAyassas srutoo fo 7g1 4 9 mlg nee atl ameie nwtn\n",
      "30000/30000 [==============================]30000/30000 [==============================] - 74s 2ms/step - loss: 1.2567 - acc: 0.6339\n",
      "\n",
      "Epoch 7/10\n",
      "29952/30000 [============================>.]29952/30000 [============================>.] - ETA: 0s - loss: 1.2238 - acc: 0.6399\n",
      "a country whose territory consctnai sldvy i o.Alet Do asas) yasblnki.Mrt nmegos yayi o prmsnftny Jl,snet-oe rplii osio oe hsces fodddrsweyanttnr hl nlhiee ndhs epethcil,atrnpn3s ntrhsie frmdais nmlie hetramstlsfenali-osoc nais rcu\n",
      "30000/30000 [==============================]30000/30000 [==============================] - 76s 3ms/step - loss: 1.2236 - acc: 0.6400\n",
      "\n",
      "Epoch 8/10\n",
      "29952/30000 [============================>.]29952/30000 [============================>.] - ETA: 0s - loss: 1.2011 - acc: 0.6472\n",
      "a country whose territory consatothanefedae h eritoyod Fesc itinrC(E eproimnFarpiaiae raeentnel h are.lbtinewar uinettrtias ateCuitdu naeo,mgih,ashrayar rnale rfabintdcnios eale italryhpotdsah nruieeraeatd,atryas etet hmtoin Cahii\n",
      "30000/30000 [==============================]30000/30000 [==============================] - 75s 2ms/step - loss: 1.2016 - acc: 0.6471\n",
      "\n",
      "Epoch 9/10\n",
      "29952/30000 [============================>.]29952/30000 [============================>.] - ETA: 0s - loss: 1.1807 - acc: 0.6519\n",
      "a country whose territory consctrs fo lse h ntoblcuin adsors aderuia frpcciai goeoe soe eioetl Oraceia caryas hmcerete yan xpavlos hsceriy yar,ay hruhoden rtee nmere frmc,soe ) hgeknm n lgds cnrus nmesalycb o aruteie,bi lu\n",
      "hdy eta\n",
      "30000/30000 [==============================]30000/30000 [==============================] - 74s 2ms/step - loss: 1.1803 - acc: 0.6521\n",
      "\n",
      "Epoch 10/10\n",
      "29952/30000 [============================>.]29952/30000 [============================>.] - ETA: 0s - loss: 1.1576 - acc: 0.6541\n",
      "a country whose territory consihssos frmsisins frm oe,asias  rmadca poe o Cah eoad rmenlp.Mihcrali,aie prvst nwih ntepos urye 4l"
     ]
    },
    {
     "name": "stderr",
     "output_type": "stream",
     "text": [
      "/home/thomas/venv/lib/python3.5/site-packages/ipykernel_launcher.py:13: RuntimeWarning: divide by zero encountered in log\n",
      "  del sys.path[0]\n"
     ]
    },
    {
     "name": "stdout",
     "output_type": "stream",
     "text": [
      "dwrl efutos sou i 1 intwrn fud ntig ntay yay.Bt s npeaiafa fo oe atrcmltts eylciilu c  clrii ncadsttnu\n",
      "30000/30000 [==============================]30000/30000 [==============================] - 75s 3ms/step - loss: 1.1577 - acc: 0.6539\n",
      "\n"
     ]
    },
    {
     "data": {
      "text/plain": [
       "<tensorflow.python.keras._impl.keras.callbacks.History at 0x7f90d6053278>"
      ]
     },
     "execution_count": 41,
     "metadata": {},
     "output_type": "execute_result"
    }
   ],
   "source": [
    "model.fit(train_x, train_y, batch_size=256, epochs=10, callbacks=[TextGeneration()], verbose=1)"
   ]
  },
  {
   "cell_type": "code",
   "execution_count": null,
   "metadata": {},
   "outputs": [],
   "source": []
  }
 ],
 "metadata": {
  "celltoolbar": "Slideshow",
  "kernelspec": {
   "display_name": "Python 3",
   "language": "python",
   "name": "python3"
  },
  "language_info": {
   "codemirror_mode": {
    "name": "ipython",
    "version": 3
   },
   "file_extension": ".py",
   "mimetype": "text/x-python",
   "name": "python",
   "nbconvert_exporter": "python",
   "pygments_lexer": "ipython3",
   "version": "3.5.3"
  }
 },
 "nbformat": 4,
 "nbformat_minor": 2
}
